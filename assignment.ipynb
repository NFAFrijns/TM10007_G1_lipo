{
  "cells": [
    {
      "cell_type": "markdown",
      "metadata": {
        "id": "7SXpaKwwGe5x"
      },
      "source": [
        "# TM10007 Assignment template"
      ]
    },
    {
      "cell_type": "markdown",
      "source": [
        "In this part of the code a connection is made between github and this file.\n",
        "All the documents from github are imported, inluding our data.\n",
        "The files that are not needed for our assignment were deleted from github."
      ],
      "metadata": {
        "id": "Alk8IgHyUESq"
      }
    },
    {
      "cell_type": "code",
      "execution_count": 1,
      "metadata": {
        "colab": {
          "base_uri": "https://localhost:8080/"
        },
        "id": "CiDn2Sk-VWqE",
        "outputId": "8f554c65-fc8a-4983-b65c-ffba7b39abf3"
      },
      "outputs": [
        {
          "output_type": "stream",
          "name": "stdout",
          "text": [
            "  Preparing metadata (setup.py) ... \u001b[?25l\u001b[?25hdone\n",
            "\u001b[2K     \u001b[90m━━━━━━━━━━━━━━━━━━━━━━━━━━━━━━━━━━━━━━━━\u001b[0m \u001b[32m23.7/23.7 MB\u001b[0m \u001b[31m49.5 MB/s\u001b[0m eta \u001b[36m0:00:00\u001b[0m\n",
            "\u001b[2K     \u001b[90m━━━━━━━━━━━━━━━━━━━━━━━━━━━━━━━━━━━━━━━━\u001b[0m \u001b[32m823.6/823.6 kB\u001b[0m \u001b[31m44.6 MB/s\u001b[0m eta \u001b[36m0:00:00\u001b[0m\n",
            "\u001b[2K     \u001b[90m━━━━━━━━━━━━━━━━━━━━━━━━━━━━━━━━━━━━━━━━\u001b[0m \u001b[32m14.1/14.1 MB\u001b[0m \u001b[31m69.0 MB/s\u001b[0m eta \u001b[36m0:00:00\u001b[0m\n",
            "\u001b[2K     \u001b[90m━━━━━━━━━━━━━━━━━━━━━━━━━━━━━━━━━━━━━━━━\u001b[0m \u001b[32m731.7/731.7 MB\u001b[0m \u001b[31m2.0 MB/s\u001b[0m eta \u001b[36m0:00:00\u001b[0m\n",
            "\u001b[2K     \u001b[90m━━━━━━━━━━━━━━━━━━━━━━━━━━━━━━━━━━━━━━━━\u001b[0m \u001b[32m410.6/410.6 MB\u001b[0m \u001b[31m2.4 MB/s\u001b[0m eta \u001b[36m0:00:00\u001b[0m\n",
            "\u001b[2K     \u001b[90m━━━━━━━━━━━━━━━━━━━━━━━━━━━━━━━━━━━━━━━━\u001b[0m \u001b[32m121.6/121.6 MB\u001b[0m \u001b[31m7.6 MB/s\u001b[0m eta \u001b[36m0:00:00\u001b[0m\n",
            "\u001b[2K     \u001b[90m━━━━━━━━━━━━━━━━━━━━━━━━━━━━━━━━━━━━━━━━\u001b[0m \u001b[32m56.5/56.5 MB\u001b[0m \u001b[31m10.3 MB/s\u001b[0m eta \u001b[36m0:00:00\u001b[0m\n",
            "\u001b[2K     \u001b[90m━━━━━━━━━━━━━━━━━━━━━━━━━━━━━━━━━━━━━━━━\u001b[0m \u001b[32m124.2/124.2 MB\u001b[0m \u001b[31m8.5 MB/s\u001b[0m eta \u001b[36m0:00:00\u001b[0m\n",
            "\u001b[2K     \u001b[90m━━━━━━━━━━━━━━━━━━━━━━━━━━━━━━━━━━━━━━━━\u001b[0m \u001b[32m196.0/196.0 MB\u001b[0m \u001b[31m2.4 MB/s\u001b[0m eta \u001b[36m0:00:00\u001b[0m\n",
            "\u001b[2K     \u001b[90m━━━━━━━━━━━━━━━━━━━━━━━━━━━━━━━━━━━━━━━━\u001b[0m \u001b[32m166.0/166.0 MB\u001b[0m \u001b[31m2.7 MB/s\u001b[0m eta \u001b[36m0:00:00\u001b[0m\n",
            "\u001b[2K     \u001b[90m━━━━━━━━━━━━━━━━━━━━━━━━━━━━━━━━━━━━━━━━\u001b[0m \u001b[32m99.1/99.1 kB\u001b[0m \u001b[31m10.0 MB/s\u001b[0m eta \u001b[36m0:00:00\u001b[0m\n",
            "\u001b[2K     \u001b[90m━━━━━━━━━━━━━━━━━━━━━━━━━━━━━━━━━━━━━━━━\u001b[0m \u001b[32m21.1/21.1 MB\u001b[0m \u001b[31m61.9 MB/s\u001b[0m eta \u001b[36m0:00:00\u001b[0m\n",
            "\u001b[?25h  Building wheel for ktml (setup.py) ... \u001b[?25l\u001b[?25hdone\n"
          ]
        }
      ],
      "source": [
        "# Run this to use from colab environment\n",
        "!pip install -q --upgrade git+https://github.com/NFAFrijns/TM10007_G1_lipo.git"
      ]
    },
    {
      "cell_type": "markdown",
      "metadata": {
        "id": "5ZxITZZaOeIO"
      },
      "source": [
        "## Data loading and cleaning\n",
        "\n",
        "Below are functions to load the dataset of your choice. After that, it is all up to you to create and evaluate a classification method. Beware, there may be missing values in these datasets. Good luck!"
      ]
    },
    {
      "cell_type": "code",
      "execution_count": 2,
      "metadata": {
        "colab": {
          "base_uri": "https://localhost:8080/"
        },
        "id": "-NE_fTbKGe5z",
        "outputId": "efb8c67f-35e8-4c9d-d415-24f7f32531b5"
      },
      "outputs": [
        {
          "output_type": "stream",
          "name": "stdout",
          "text": [
            "The number of samples: 115\n",
            "The number of columns: 494\n",
            "The number of samples: 115\n",
            "The number of samples: 115\n",
            "57 : 58\n",
            "<class 'pandas.core.series.Series'>\n",
            "<class 'pandas.core.frame.DataFrame'>\n",
            "<class 'pandas.core.frame.DataFrame'>\n"
          ]
        }
      ],
      "source": [
        "# Data loading functions. Uncomment the one you want to use\n",
        "from worclipo.load_data import load_data\n",
        "import pandas as pd\n",
        "data = load_data()\n",
        "\n",
        "# Printing the demensions of the data\n",
        "print(f'The number of samples: {len(data.index)}')\n",
        "print(f'The number of columns: {len(data.columns)}')\n",
        "\n",
        "#splitting data into X and y\n",
        "y  = data['label']\n",
        "X = data[data.columns[1:]]\n",
        "print(f'The number of samples: {len(X.index)}')\n",
        "print(f'The number of samples: {len(y.index)}')\n",
        "# Counting the different labels\n",
        "def ratio_lipoma_liposarcoma(y):\n",
        "  lipoma = 0\n",
        "  liposarcoma = 0\n",
        "  for i in y:\n",
        "    if i == \"lipoma\":\n",
        "      lipoma += 1\n",
        "    else:\n",
        "      liposarcoma += 1\n",
        "  return f'{lipoma} : {liposarcoma}'\n",
        "print(ratio_lipoma_liposarcoma(y))\n",
        "print(type(y))\n",
        "print(type(X))\n",
        "print(type(data))"
      ]
    },
    {
      "cell_type": "markdown",
      "source": [
        "# Splitting the data\n",
        "We will split the data in a training en test set with the following ratio 4:1 (training:test).\n",
        "\n"
      ],
      "metadata": {
        "id": "Y1GcxxuPoPYt"
      }
    },
    {
      "cell_type": "code",
      "execution_count": 3,
      "metadata": {
        "id": "a1cUC2O8OeIP"
      },
      "outputs": [],
      "source": [
        "from sklearn.model_selection import train_test_split\n",
        "# making the train and test data\n",
        "X_train, X_test, y_train, y_test = train_test_split(X, y, test_size=0.2, random_state=42)\n",
        "\n"
      ]
    },
    {
      "cell_type": "markdown",
      "source": [
        "#Dimensionality reduction - GEBLOKT DOOR IMME\n"
      ],
      "metadata": {
        "id": "_EkqfTz082BQ"
      }
    },
    {
      "cell_type": "markdown",
      "source": [
        "## Waarom dimentionaliteitsreductie?\n",
        "Hier gaan we de dimentionaliteit reduceren. Er is iets dat heet 'The curse of dimentionality'.\n",
        "\n",
        "High dimensional data is when a dataset a number of features (p) that is bigger than the number of observations (N). High dimensional data is the problem that leads to the curse of dimensionality. The equation for high dimensional data is usually written like p >> N.\n",
        "\n",
        "Wij hebben een p van 492 en een N van 115, dus p>>n, dus hoog dimentionaal\n",
        "\n",
        "The Hughes Phenomenon shows that as the number of features increases, the classifier’s performance increases as well until we reach the optimal number of features. Adding more features based on the same size as the training set will then degrade the classifier’s performance.\n",
        "\n",
        "bron: https://builtin.com/data-science/curse-dimensionality"
      ],
      "metadata": {
        "id": "zRy6q2Wx-vsh"
      }
    },
    {
      "cell_type": "markdown",
      "source": [
        "## PCA\n",
        "\n",
        "PCA is handig om mee te beginnen omdat het relatief intuitief is en je de data handig kan visualiseren. Misschien probeer ik later nog wel wat andere dingen\n",
        "\n",
        "**How many components to use?**\n",
        "A good strategy is to choose the number of dimensions for which the cumulative explained variance exceeds a threshold, e.g., 0.95 (95%).https://www.baeldung.com/cs/pca\n",
        "\n",
        "## Deze code\n",
        "bron code: https://www.jcchouinard.com/pca-plot-visualization-python/\n",
        "\n",
        "**Let op:** PCA does not accept missing data points, dus de code kan ik nu wel schrijven, maar het werkt alleen als Nico het voorbewerken van de data heeft gedaan\n",
        "\n",
        "voor de code hieronder gebruik ik alleen de trainingsdata (X_train) en de labels daarvan (y_train)\n",
        "\n",
        "**Scree Plot**\n",
        "To make a scree plot, or cumulative explained variance plot, with Python and PCA, first plot an explained variance bar plot and add a secondary plot of the cumulative sum, also know as the Cumulative Explained Variance.\n",
        "\n",
        "A scree plot is nothing more than a plot of the eigenvalues (also known as the explained variance). Essentially, it provides the same information as the Explained Variance."
      ],
      "metadata": {
        "id": "UN8ZoJn8_pZJ"
      }
    },
    {
      "cell_type": "code",
      "source": [
        "# code for dimensionality reduction\n",
        "\n",
        "import pandas as pd\n",
        "from sklearn import datasets\n",
        "from sklearn.preprocessing import StandardScaler\n",
        "from sklearn.decomposition import PCA\n",
        "import matplotlib.pyplot as plt\n",
        "import seaborn as sns\n",
        "import numpy as np"
      ],
      "metadata": {
        "id": "IQLUlMDa86Gq"
      },
      "execution_count": 15,
      "outputs": []
    },
    {
      "cell_type": "code",
      "source": [
        "# Hyperparameters to tune:\n",
        "numb_components = 20     # number of components"
      ],
      "metadata": {
        "id": "cvsAPFfrBmgS"
      },
      "execution_count": 26,
      "outputs": []
    },
    {
      "cell_type": "code",
      "source": [
        "# voor nu even heel simple scaling, wachten op wat Nico doet voor echte voorbewerking\n",
        "# Data Scaling\n",
        "x_scaled = StandardScaler().fit_transform(X_train)\n",
        "\n",
        "# Reduce from 4 to 3 features with PCA\n",
        "pca = PCA(n_components=numb_components)\n",
        "\n",
        "# Fit and transform data\n",
        "pca_features = pca.fit_transform(x_scaled)"
      ],
      "metadata": {
        "id": "FHAw6PQF-ZhB"
      },
      "execution_count": 27,
      "outputs": []
    },
    {
      "cell_type": "code",
      "source": [
        "# Plot the Explained Variance\n",
        "sns.set()\n",
        "\n",
        "# Bar plot of explained_variance\n",
        "plt.bar(range(1, len(pca.explained_variance_ratio_) + 1), pca.explained_variance_ratio_)\n",
        "\n",
        "# Plot the Cumulative sum\n",
        "plt.plot(range(1, len(pca.explained_variance_) + 1), np.cumsum(pca.explained_variance_ratio_), c='red',\n",
        "         label='Cumulative Explained Variance')  # <-- Change explained_variance_ to explained_variance_ratio_\n",
        "\n",
        "# Make a nice figure\n",
        "plt.legend(loc='upper left')\n",
        "plt.xlabel('Number of components')\n",
        "plt.ylabel('Explained variance (eigenvalues)')\n",
        "plt.title('Scree plot')\n",
        "\n",
        "plt.show()\n",
        "\n"
      ],
      "metadata": {
        "id": "UXNPOcDMB8-w",
        "outputId": "4cc11784-e32f-4382-be13-a967b8109c2d",
        "colab": {
          "base_uri": "https://localhost:8080/",
          "height": 480
        }
      },
      "execution_count": 28,
      "outputs": [
        {
          "output_type": "display_data",
          "data": {
            "text/plain": [
              "<Figure size 640x480 with 1 Axes>"
            ],
            "image/png": "[encoded data removed]"
          },
          "metadata": {}
        }
      ]
    },
    {
      "cell_type": "markdown",
      "source": [
        "# Hieronder komt een stuk over feature selection\n",
        "\n",
        "dan kunnen we even goed vergelijken hoeveel features helemaal niets bijdragen om wat beeld te krijgen bij onze dataset"
      ],
      "metadata": {
        "id": "FHXRvzcBL32J"
      }
    },
    {
      "cell_type": "code",
      "source": [],
      "metadata": {
        "id": "xU6X4LoOL7-8"
      },
      "execution_count": null,
      "outputs": []
    }
  ],
  "metadata": {
    "colab": {
      "name": "assignment.ipynb",
      "provenance": []
    },
    "kernelspec": {
      "display_name": "Python 3",
      "name": "python3"
    },
    "language_info": {
      "codemirror_mode": {
        "name": "ipython",
        "version": 3
      },
      "file_extension": ".py",
      "mimetype": "text/x-python",
      "name": "python",
      "nbconvert_exporter": "python",
      "pygments_lexer": "ipython3",
      "version": "3.8.5"
    }
  },
  "nbformat": 4,
  "nbformat_minor": 0
}