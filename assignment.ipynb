{
  "cells": [
    {
      "cell_type": "markdown",
      "metadata": {
        "id": "7SXpaKwwGe5x"
      },
      "source": [
        "# TM10007 Assignment\n",
        "Made by: Sifra Kuiper, Imme Spiekerman, Florien Algera and Nico Frijns"
      ]
    },
    {
      "cell_type": "markdown",
      "source": [
        "**Explanation of what this code will achieve**"
      ],
      "metadata": {
        "id": "Alk8IgHyUESq"
      }
    },
    {
      "cell_type": "markdown",
      "source": [],
      "metadata": {
        "id": "D7gEkYIWwGoD"
      }
    },
    {
      "cell_type": "markdown",
      "source": [
        "This part of the code will connect this document to the github-location where the data is stored."
      ],
      "metadata": {
        "id": "y7O3Ws2Mqkvu"
      }
    },
    {
      "cell_type": "code",
      "source": [
        "# Run this to use from colab environment\n",
        "!pip install -q --upgrade git+https://github.com/NFAFrijns/TM10007_G1_lipo.git\n",
        "!pip install fast_ml --upgrade"
      ],
      "metadata": {
        "colab": {
          "base_uri": "https://localhost:8080/"
        },
        "id": "GGehiuN6wGHJ",
        "outputId": "0b6d17a1-dac3-4bee-e354-955724d07347"
      },
      "execution_count": 1,
      "outputs": [
        {
          "output_type": "stream",
          "name": "stdout",
          "text": [
            "  Preparing metadata (setup.py) ... \u001b[?25l\u001b[?25hdone\n",
            "\u001b[2K     \u001b[90m━━━━━━━━━━━━━━━━━━━━━━━━━━━━━━━━━━━━━━━━\u001b[0m \u001b[32m23.7/23.7 MB\u001b[0m \u001b[31m17.9 MB/s\u001b[0m eta \u001b[36m0:00:00\u001b[0m\n",
            "\u001b[2K     \u001b[90m━━━━━━━━━━━━━━━━━━━━━━━━━━━━━━━━━━━━━━━━\u001b[0m \u001b[32m823.6/823.6 kB\u001b[0m \u001b[31m12.3 MB/s\u001b[0m eta \u001b[36m0:00:00\u001b[0m\n",
            "\u001b[2K     \u001b[90m━━━━━━━━━━━━━━━━━━━━━━━━━━━━━━━━━━━━━━━━\u001b[0m \u001b[32m14.1/14.1 MB\u001b[0m \u001b[31m24.6 MB/s\u001b[0m eta \u001b[36m0:00:00\u001b[0m\n",
            "\u001b[2K     \u001b[90m━━━━━━━━━━━━━━━━━━━━━━━━━━━━━━━━━━━━━━━━\u001b[0m \u001b[32m731.7/731.7 MB\u001b[0m \u001b[31m1.4 MB/s\u001b[0m eta \u001b[36m0:00:00\u001b[0m\n",
            "\u001b[2K     \u001b[90m━━━━━━━━━━━━━━━━━━━━━━━━━━━━━━━━━━━━━━━━\u001b[0m \u001b[32m410.6/410.6 MB\u001b[0m \u001b[31m744.2 kB/s\u001b[0m eta \u001b[36m0:00:00\u001b[0m\n",
            "\u001b[2K     \u001b[90m━━━━━━━━━━━━━━━━━━━━━━━━━━━━━━━━━━━━━━━━\u001b[0m \u001b[32m121.6/121.6 MB\u001b[0m \u001b[31m4.3 MB/s\u001b[0m eta \u001b[36m0:00:00\u001b[0m\n",
            "\u001b[2K     \u001b[90m━━━━━━━━━━━━━━━━━━━━━━━━━━━━━━━━━━━━━━━━\u001b[0m \u001b[32m56.5/56.5 MB\u001b[0m \u001b[31m4.9 MB/s\u001b[0m eta \u001b[36m0:00:00\u001b[0m\n",
            "\u001b[2K     \u001b[90m━━━━━━━━━━━━━━━━━━━━━━━━━━━━━━━━━━━━━━━━\u001b[0m \u001b[32m124.2/124.2 MB\u001b[0m \u001b[31m2.5 MB/s\u001b[0m eta \u001b[36m0:00:00\u001b[0m\n",
            "\u001b[2K     \u001b[90m━━━━━━━━━━━━━━━━━━━━━━━━━━━━━━━━━━━━━━━━\u001b[0m \u001b[32m196.0/196.0 MB\u001b[0m \u001b[31m3.4 MB/s\u001b[0m eta \u001b[36m0:00:00\u001b[0m\n",
            "\u001b[2K     \u001b[90m━━━━━━━━━━━━━━━━━━━━━━━━━━━━━━━━━━━━━━━━\u001b[0m \u001b[32m166.0/166.0 MB\u001b[0m \u001b[31m2.2 MB/s\u001b[0m eta \u001b[36m0:00:00\u001b[0m\n",
            "\u001b[2K     \u001b[90m━━━━━━━━━━━━━━━━━━━━━━━━━━━━━━━━━━━━━━━━\u001b[0m \u001b[32m99.1/99.1 kB\u001b[0m \u001b[31m4.4 MB/s\u001b[0m eta \u001b[36m0:00:00\u001b[0m\n",
            "\u001b[2K     \u001b[90m━━━━━━━━━━━━━━━━━━━━━━━━━━━━━━━━━━━━━━━━\u001b[0m \u001b[32m21.1/21.1 MB\u001b[0m \u001b[31m3.8 MB/s\u001b[0m eta \u001b[36m0:00:00\u001b[0m\n",
            "\u001b[?25h  Building wheel for ktml (setup.py) ... \u001b[?25l\u001b[?25hdone\n",
            "Collecting fast_ml\n",
            "  Downloading fast_ml-3.68-py3-none-any.whl (42 kB)\n",
            "\u001b[2K     \u001b[90m━━━━━━━━━━━━━━━━━━━━━━━━━━━━━━━━━━━━━━━━\u001b[0m \u001b[32m42.1/42.1 kB\u001b[0m \u001b[31m974.9 kB/s\u001b[0m eta \u001b[36m0:00:00\u001b[0m\n",
            "\u001b[?25hInstalling collected packages: fast_ml\n",
            "Successfully installed fast_ml-3.68\n"
          ]
        }
      ]
    },
    {
      "cell_type": "markdown",
      "source": [
        "## import packages"
      ],
      "metadata": {
        "id": "ivBuV8MKwHBL"
      }
    },
    {
      "cell_type": "code",
      "source": [
        "# Import relevant packages\n",
        "import pandas as pd\n",
        "import numpy as np\n",
        "import matplotlib.pyplot as plt\n",
        "from sklearn.preprocessing import LabelEncoder\n",
        "from sklearn.feature_selection import f_classif\n",
        "from statsmodels.sandbox.stats.multicomp import multipletests\n"
      ],
      "metadata": {
        "id": "htqkOhuWs5rc"
      },
      "execution_count": 63,
      "outputs": []
    },
    {
      "cell_type": "markdown",
      "source": [
        "## Pre-processing"
      ],
      "metadata": {
        "id": "Mz4CtBAzqzGh"
      }
    },
    {
      "cell_type": "markdown",
      "source": [
        "## Data loading\n",
        "\n",
        "Loading the data And extracting basic data. And splitting data in label and features."
      ],
      "metadata": {
        "id": "aDB5Z5PNrPqS"
      }
    },
    {
      "cell_type": "code",
      "execution_count": 49,
      "metadata": {
        "id": "-NE_fTbKGe5z",
        "colab": {
          "base_uri": "https://localhost:8080/"
        },
        "outputId": "1a032578-3a35-457b-932e-b083cb95d88a"
      },
      "outputs": [
        {
          "output_type": "stream",
          "name": "stdout",
          "text": [
            "The number of samples: 115\n",
            "The number of columns: 494\n",
            "The number of samples: 115\n",
            "The number of samples: 115\n",
            "Ratio van lipoma and liposarcoma is: 57 : 58\n"
          ]
        }
      ],
      "source": [
        "# Data loading functions. Uncomment the one you want to use\n",
        "from worclipo.load_data import load_data\n",
        "data = load_data()\n",
        "\n",
        "# Printing the demensions of the data\n",
        "print(f'The number of samples: {len(data.index)}')\n",
        "print(f'The number of columns: {len(data.columns)}')\n",
        "\n",
        "#splitting data into X and y\n",
        "y  = data['label']\n",
        "X = data[data.columns[1:]]\n",
        "y = pd.DataFrame(y)\n",
        "X = pd.DataFrame(X)\n",
        "print(f'The number of samples: {len(X.index)}')\n",
        "print(f'The number of samples: {len(y.index)}')\n",
        "# Counting the different labels\n",
        "def ratio_lipoma_liposarcoma(y):\n",
        "  lipoma = 0\n",
        "  liposarcoma = 0\n",
        "  for i in y['label']:\n",
        "    if i == \"lipoma\":\n",
        "      lipoma += 1\n",
        "    else:\n",
        "      liposarcoma += 1\n",
        "  return f'Ratio van lipoma and liposarcoma is: {lipoma} : {liposarcoma}'\n",
        "print(ratio_lipoma_liposarcoma(y))\n",
        "\n",
        "\n"
      ]
    },
    {
      "cell_type": "markdown",
      "source": [
        "## Splitting the data into training and test\n",
        "\n",
        "We will split the data in a training en test set with the following ratio 4:1 (training:test) using a stratified split.\n",
        "\n"
      ],
      "metadata": {
        "id": "JRqN1uv7vaDp"
      }
    },
    {
      "cell_type": "code",
      "source": [
        "from sklearn.model_selection import train_test_split\n",
        "# making the train and test data\n",
        "X_selected_train, X_selected_test, y_train, y_test = train_test_split(X, y, test_size=0.2,\n",
        "                                                    random_state=42, stratify=y)\n",
        "\n",
        "print(f'Train {ratio_lipoma_liposarcoma(y_train)}')\n",
        "print(f'Test {ratio_lipoma_liposarcoma(y_test)}')"
      ],
      "metadata": {
        "colab": {
          "base_uri": "https://localhost:8080/"
        },
        "id": "zIkV5ZvUvTWt",
        "outputId": "a5b0faa3-d0a4-4e99-9dcb-5df5aed364ab"
      },
      "execution_count": 47,
      "outputs": [
        {
          "output_type": "stream",
          "name": "stdout",
          "text": [
            "Train Ratio van lipoma and liposarcoma is: 46 : 46\n",
            "Test Ratio van lipoma and liposarcoma is: 11 : 12\n"
          ]
        }
      ]
    },
    {
      "cell_type": "markdown",
      "source": [
        "## Checking for missing data\n"
      ],
      "metadata": {
        "id": "DTmsuf2twGrH"
      }
    },
    {
      "cell_type": "code",
      "source": [
        "from fast_ml.missing_data_imputation import MissingDataImputer_Numerical\n",
        "from fast_ml import eda\n",
        "import numpy as np\n",
        "\n",
        "summary_df = eda.df_info(X_selected_train)\n",
        " #display_all(summary_df)\n",
        "\n",
        "import pandas as pd\n",
        "import numpy as np\n",
        "from sklearn.impute import SimpleImputer\n",
        "\n",
        "# Replace zeros with NaNs\n",
        "X_selected_train_nan = X_train.replace(0, np.nan)\n",
        "X_selected_test_nan = X_test.replace(0, np.nan)\n",
        "\n",
        "# Calculate the percentage of NaN values for each feature\n",
        "nan_percentage_train = (X_selected_train_nan.isnull().sum() / len(X_selected_train_nan)) * 100\n",
        "\n",
        "# Identify columns with more than 5% NaN values\n",
        "columns_to_exclude_train = nan_percentage_train[nan_percentage_train > 5].index\n",
        "\n",
        "# Exclude columns with more than 5% NaN values from the training set\n",
        "X_selected_train_filtered = X_selected_train_nan.drop(columns=columns_to_exclude_train)\n",
        "\n",
        "# Create an instance of SimpleImputer with strategy='median'\n",
        "imputer = SimpleImputer(strategy='median')\n",
        "\n",
        "# Fit the imputer on the filtered training set\n",
        "imputer.fit(X_selected_train_filtered)\n",
        "\n",
        "# Impute missing values in the training set and convert to DataFrame\n",
        "X_selected_train = pd.DataFrame(imputer.transform(X_selected_train_filtered), columns=X_selected_train_filtered.columns, index=X_selected_train_filtered.index)\n",
        "\n",
        "# Apply the same filtering and imputation steps to the test set\n",
        "X_selected_test_filtered = X_selected_test_nan.drop(columns=columns_to_exclude_train)\n",
        "X_selected_test = pd.DataFrame(imputer.transform(X_selected_test_filtered), columns=X_selected_test_filtered.columns, index=X_selected_test_filtered.index)\n",
        "\n",
        "print(f'The number of columns: {len(X_selected_train.columns)}')\n",
        "print(f'The number of columns: {len(X_selected_test.columns)}')"
      ],
      "metadata": {
        "id": "EZorrP5kwIUm",
        "outputId": "6df1920c-e66a-4c2d-b9c7-d3e64283708c",
        "colab": {
          "base_uri": "https://localhost:8080/"
        }
      },
      "execution_count": 50,
      "outputs": [
        {
          "output_type": "stream",
          "name": "stdout",
          "text": [
            "The number of columns: 464\n",
            "The number of columns: 464\n"
          ]
        }
      ]
    },
    {
      "cell_type": "markdown",
      "source": [
        "## Checking for variance\n",
        "Removing zero-variance features"
      ],
      "metadata": {
        "id": "YhUcWDYdw1QJ"
      }
    },
    {
      "cell_type": "code",
      "source": [
        "from sklearn.feature_selection import VarianceThreshold\n",
        "\n",
        "# Record the column names and data types\n",
        "original_columns_train = X_selected_train.columns\n",
        "original_dtypes_train = X_selected_train.dtypes\n",
        "# Create an instance of VarianceThreshold\n",
        "selector = VarianceThreshold()\n",
        "\n",
        "# Fit the selector to your training data\n",
        "selector.fit(X_selected_train)\n",
        "\n",
        "# Get the indices of the features that are kept after feature selection\n",
        "kept_features_indices = selector.get_support(indices=True)\n",
        "\n",
        "# Get the names of the kept features\n",
        "kept_features_names = X_selected_train.columns[kept_features_indices]\n",
        "\n",
        "# Transform the training data and create a new DataFrame with the kept features\n",
        "relevant_features_train = selector.transform(X_selected_train)\n",
        "X_selected_train = pd.DataFrame(relevant_features_train,\n",
        "                                columns=kept_features_names,\n",
        "                                index=X_train.index)\n",
        "# setting features back to orginale datatype\n",
        "for column in X_selected_train.columns:\n",
        "  if column in original_columns_train:\n",
        "    X_selected_train[column] = X_selected_train[column].astype(\n",
        "        original_dtypes_train[column])\n",
        "# Print the original DataFrame, transformed DataFrame,\n",
        "# and the number of zero-variance features\n",
        "print(f'The number of columns: {len(X_selected_train.columns)}')\n",
        "\n",
        "# Test data same transformation as train\n",
        "original_columns_test = X_selected_test.columns\n",
        "original_dtypes_test = X_selected_test.dtypes\n",
        "relevant_features_test = selector.transform(X_selected_test)\n",
        "X_selected_test = pd.DataFrame(relevant_features_test,\n",
        "                               columns=kept_features_names, index=X_test.index)\n",
        "for column in X_selected_test.columns:\n",
        "  if column in original_columns_test:\n",
        "    X_selected_test[column] = X_selected_test[column].astype(\n",
        "        original_dtypes_test[column])\n",
        "print(f'The number of columns: {len(X_selected_test.columns)}')"
      ],
      "metadata": {
        "id": "N7AJbrccw2ig",
        "outputId": "8e1f1bf6-7ec5-411e-d1f2-b2b6d75d181e",
        "colab": {
          "base_uri": "https://localhost:8080/"
        }
      },
      "execution_count": 51,
      "outputs": [
        {
          "output_type": "stream",
          "name": "stdout",
          "text": [
            "The number of columns: 456\n",
            "The number of columns: 456\n"
          ]
        }
      ]
    },
    {
      "cell_type": "markdown",
      "source": [
        "## Checking for duplicates\n",
        "\n",
        "In this code a check will be conducted to check if there are any duplicate features or rows."
      ],
      "metadata": {
        "id": "XKsGpzkfvezG"
      }
    },
    {
      "cell_type": "code",
      "source": [
        "# check of there are no duplicated features and rows by using the index\n",
        "if  X_selected_train.index.is_unique:\n",
        "  print('Features and rows are unique by name')\n",
        "else:\n",
        "  print('There is a duplicated features and/or rows by name')\n",
        "\n",
        "#check of there are no dupliceted features regarding the data\n",
        "from fast_ml.utilities import display_all\n",
        "from fast_ml.feature_selection import get_duplicate_features\n",
        "\n",
        "duplicate_features = get_duplicate_features(X_selected_train)\n",
        "duplicate_features.head()\n",
        "duplicate_features_list = duplicate_features.query(\n",
        "    \"Desc=='Duplicate Values'\")['feature2'].to_list()\n",
        "X_selected_train.drop(columns=duplicate_features_list, inplace=True)\n",
        "X_selected_test.drop(columns=duplicate_features_list, inplace=True)\n",
        "print(f'The number of columns: {len(X_selected_train.columns)}')\n",
        "print(f'The number of columns: {len(X_selected_test.columns)}')"
      ],
      "metadata": {
        "colab": {
          "base_uri": "https://localhost:8080/"
        },
        "id": "6WT2NnC6vccy",
        "outputId": "a3045cc3-2610-4b7f-fbf9-7de2d26fe388"
      },
      "execution_count": 52,
      "outputs": [
        {
          "output_type": "stream",
          "name": "stdout",
          "text": [
            "Features and rows are unique by name\n",
            "The number of columns: 441\n",
            "The number of columns: 441\n"
          ]
        }
      ]
    },
    {
      "cell_type": "markdown",
      "source": [
        "## Data checking datatype\n",
        "Checking the data types used for the futeres and analyzing the int data"
      ],
      "metadata": {
        "id": "ruLD37oOvqBo"
      }
    },
    {
      "cell_type": "code",
      "source": [
        "X_selected_train.info()\n",
        "# want to have the name of the int to check if it is a catogirsed data\n",
        "integer_features = X_selected_train.select_dtypes(include='int64').columns.tolist()\n",
        "print(\"Integer features:\")\n",
        "print(integer_features)"
      ],
      "metadata": {
        "colab": {
          "base_uri": "https://localhost:8080/"
        },
        "id": "WbL_SvUmvr_m",
        "outputId": "95944e16-3036-49c0-d8d4-3b41f96819ee"
      },
      "execution_count": 53,
      "outputs": [
        {
          "output_type": "stream",
          "name": "stdout",
          "text": [
            "<class 'pandas.core.frame.DataFrame'>\n",
            "Index: 92 entries, Lipo-059_0 to Lipo-006_0\n",
            "Columns: 441 entries, PREDICT_original_sf_compactness_avg_2.5D to PREDICT_original_phasef_phasesym_entropy_WL3_N5\n",
            "dtypes: float64(441)\n",
            "memory usage: 319.7+ KB\n",
            "Integer features:\n",
            "[]\n"
          ]
        }
      ]
    },
    {
      "cell_type": "markdown",
      "source": [
        "Want to make a plot of all the int data to see if it is categorized data is."
      ],
      "metadata": {
        "id": "Xhy_1jxhvsjC"
      }
    },
    {
      "cell_type": "code",
      "source": [
        "import matplotlib.pyplot as plt\n",
        "\n",
        "# Assuming features_set is your set of features\n",
        "num_features = len(integer_features)\n",
        "num_cols = 2  # Number of columns in the subplot grid\n",
        "num_rows = -(-num_features // num_cols)  # Ceiling division to calculate number of rows\n",
        "\n",
        "fig, axes = plt.subplots(num_rows, num_cols, figsize=(15, 5*num_rows))\n",
        "\n",
        "for i, feature in enumerate(integer_features):\n",
        "    if feature in X_selected_train.columns:\n",
        "        row = i // num_cols\n",
        "        col = i % num_cols\n",
        "        ax = axes[row, col]\n",
        "        X_selected_train[feature].plot(kind='hist', bins=20, ax=axes[row, col], title=feature)\n",
        "        axes[row, col].set_xlabel(feature)\n",
        "        axes[row, col].set_ylabel('Frequency')\n",
        "        # Annotate each bar with its count\n",
        "        for rect in ax.patches:\n",
        "            height = rect.get_height()\n",
        "            ax.annotate(f'{height}', xy=(rect.get_x() + rect.get_width() / 2, height),\n",
        "                        xytext=(0, 3), textcoords=\"offset points\",\n",
        "                        ha='center', va='bottom')\n",
        "\n",
        "# Hide empty subplots if the number of features is not a multiple of num_cols\n",
        "for i in range(num_features, num_rows*num_cols):\n",
        "    axes.flatten()[i].axis('off')\n",
        "\n",
        "plt.tight_layout()\n",
        "plt.show()"
      ],
      "metadata": {
        "colab": {
          "base_uri": "https://localhost:8080/",
          "height": 373
        },
        "id": "mqqGrHf4vwNG",
        "outputId": "9fb7e0b4-a7ea-421e-8f08-023fdfebd98f"
      },
      "execution_count": 55,
      "outputs": [
        {
          "output_type": "error",
          "ename": "ValueError",
          "evalue": "Number of rows must be a positive integer, not 0",
          "traceback": [
            "\u001b[0;31m---------------------------------------------------------------------------\u001b[0m",
            "\u001b[0;31mValueError\u001b[0m                                Traceback (most recent call last)",
            "\u001b[0;32m<ipython-input-55-13c970a7452f>\u001b[0m in \u001b[0;36m<cell line: 8>\u001b[0;34m()\u001b[0m\n\u001b[1;32m      6\u001b[0m \u001b[0mnum_rows\u001b[0m \u001b[0;34m=\u001b[0m \u001b[0;34m-\u001b[0m\u001b[0;34m(\u001b[0m\u001b[0;34m-\u001b[0m\u001b[0mnum_features\u001b[0m \u001b[0;34m//\u001b[0m \u001b[0mnum_cols\u001b[0m\u001b[0;34m)\u001b[0m  \u001b[0;31m# Ceiling division to calculate number of rows\u001b[0m\u001b[0;34m\u001b[0m\u001b[0;34m\u001b[0m\u001b[0m\n\u001b[1;32m      7\u001b[0m \u001b[0;34m\u001b[0m\u001b[0m\n\u001b[0;32m----> 8\u001b[0;31m \u001b[0mfig\u001b[0m\u001b[0;34m,\u001b[0m \u001b[0maxes\u001b[0m \u001b[0;34m=\u001b[0m \u001b[0mplt\u001b[0m\u001b[0;34m.\u001b[0m\u001b[0msubplots\u001b[0m\u001b[0;34m(\u001b[0m\u001b[0mnum_rows\u001b[0m\u001b[0;34m,\u001b[0m \u001b[0mnum_cols\u001b[0m\u001b[0;34m,\u001b[0m \u001b[0mfigsize\u001b[0m\u001b[0;34m=\u001b[0m\u001b[0;34m(\u001b[0m\u001b[0;36m15\u001b[0m\u001b[0;34m,\u001b[0m \u001b[0;36m5\u001b[0m\u001b[0;34m*\u001b[0m\u001b[0mnum_rows\u001b[0m\u001b[0;34m)\u001b[0m\u001b[0;34m)\u001b[0m\u001b[0;34m\u001b[0m\u001b[0;34m\u001b[0m\u001b[0m\n\u001b[0m\u001b[1;32m      9\u001b[0m \u001b[0;34m\u001b[0m\u001b[0m\n\u001b[1;32m     10\u001b[0m \u001b[0;32mfor\u001b[0m \u001b[0mi\u001b[0m\u001b[0;34m,\u001b[0m \u001b[0mfeature\u001b[0m \u001b[0;32min\u001b[0m \u001b[0menumerate\u001b[0m\u001b[0;34m(\u001b[0m\u001b[0minteger_features\u001b[0m\u001b[0;34m)\u001b[0m\u001b[0;34m:\u001b[0m\u001b[0;34m\u001b[0m\u001b[0;34m\u001b[0m\u001b[0m\n",
            "\u001b[0;32m/usr/local/lib/python3.10/dist-packages/matplotlib/pyplot.py\u001b[0m in \u001b[0;36msubplots\u001b[0;34m(nrows, ncols, sharex, sharey, squeeze, width_ratios, height_ratios, subplot_kw, gridspec_kw, **fig_kw)\u001b[0m\n\u001b[1;32m   1500\u001b[0m     \"\"\"\n\u001b[1;32m   1501\u001b[0m     \u001b[0mfig\u001b[0m \u001b[0;34m=\u001b[0m \u001b[0mfigure\u001b[0m\u001b[0;34m(\u001b[0m\u001b[0;34m**\u001b[0m\u001b[0mfig_kw\u001b[0m\u001b[0;34m)\u001b[0m\u001b[0;34m\u001b[0m\u001b[0;34m\u001b[0m\u001b[0m\n\u001b[0;32m-> 1502\u001b[0;31m     axs = fig.subplots(nrows=nrows, ncols=ncols, sharex=sharex, sharey=sharey,\n\u001b[0m\u001b[1;32m   1503\u001b[0m                        \u001b[0msqueeze\u001b[0m\u001b[0;34m=\u001b[0m\u001b[0msqueeze\u001b[0m\u001b[0;34m,\u001b[0m \u001b[0msubplot_kw\u001b[0m\u001b[0;34m=\u001b[0m\u001b[0msubplot_kw\u001b[0m\u001b[0;34m,\u001b[0m\u001b[0;34m\u001b[0m\u001b[0;34m\u001b[0m\u001b[0m\n\u001b[1;32m   1504\u001b[0m                        \u001b[0mgridspec_kw\u001b[0m\u001b[0;34m=\u001b[0m\u001b[0mgridspec_kw\u001b[0m\u001b[0;34m,\u001b[0m \u001b[0mheight_ratios\u001b[0m\u001b[0;34m=\u001b[0m\u001b[0mheight_ratios\u001b[0m\u001b[0;34m,\u001b[0m\u001b[0;34m\u001b[0m\u001b[0;34m\u001b[0m\u001b[0m\n",
            "\u001b[0;32m/usr/local/lib/python3.10/dist-packages/matplotlib/figure.py\u001b[0m in \u001b[0;36msubplots\u001b[0;34m(self, nrows, ncols, sharex, sharey, squeeze, width_ratios, height_ratios, subplot_kw, gridspec_kw)\u001b[0m\n\u001b[1;32m    903\u001b[0m             \u001b[0mgridspec_kw\u001b[0m\u001b[0;34m[\u001b[0m\u001b[0;34m'width_ratios'\u001b[0m\u001b[0;34m]\u001b[0m \u001b[0;34m=\u001b[0m \u001b[0mwidth_ratios\u001b[0m\u001b[0;34m\u001b[0m\u001b[0;34m\u001b[0m\u001b[0m\n\u001b[1;32m    904\u001b[0m \u001b[0;34m\u001b[0m\u001b[0m\n\u001b[0;32m--> 905\u001b[0;31m         \u001b[0mgs\u001b[0m \u001b[0;34m=\u001b[0m \u001b[0mself\u001b[0m\u001b[0;34m.\u001b[0m\u001b[0madd_gridspec\u001b[0m\u001b[0;34m(\u001b[0m\u001b[0mnrows\u001b[0m\u001b[0;34m,\u001b[0m \u001b[0mncols\u001b[0m\u001b[0;34m,\u001b[0m \u001b[0mfigure\u001b[0m\u001b[0;34m=\u001b[0m\u001b[0mself\u001b[0m\u001b[0;34m,\u001b[0m \u001b[0;34m**\u001b[0m\u001b[0mgridspec_kw\u001b[0m\u001b[0;34m)\u001b[0m\u001b[0;34m\u001b[0m\u001b[0;34m\u001b[0m\u001b[0m\n\u001b[0m\u001b[1;32m    906\u001b[0m         axs = gs.subplots(sharex=sharex, sharey=sharey, squeeze=squeeze,\n\u001b[1;32m    907\u001b[0m                           subplot_kw=subplot_kw)\n",
            "\u001b[0;32m/usr/local/lib/python3.10/dist-packages/matplotlib/figure.py\u001b[0m in \u001b[0;36madd_gridspec\u001b[0;34m(self, nrows, ncols, **kwargs)\u001b[0m\n\u001b[1;32m   1525\u001b[0m \u001b[0;34m\u001b[0m\u001b[0m\n\u001b[1;32m   1526\u001b[0m         \u001b[0m_\u001b[0m \u001b[0;34m=\u001b[0m \u001b[0mkwargs\u001b[0m\u001b[0;34m.\u001b[0m\u001b[0mpop\u001b[0m\u001b[0;34m(\u001b[0m\u001b[0;34m'figure'\u001b[0m\u001b[0;34m,\u001b[0m \u001b[0;32mNone\u001b[0m\u001b[0;34m)\u001b[0m  \u001b[0;31m# pop in case user has added this...\u001b[0m\u001b[0;34m\u001b[0m\u001b[0;34m\u001b[0m\u001b[0m\n\u001b[0;32m-> 1527\u001b[0;31m         \u001b[0mgs\u001b[0m \u001b[0;34m=\u001b[0m \u001b[0mGridSpec\u001b[0m\u001b[0;34m(\u001b[0m\u001b[0mnrows\u001b[0m\u001b[0;34m=\u001b[0m\u001b[0mnrows\u001b[0m\u001b[0;34m,\u001b[0m \u001b[0mncols\u001b[0m\u001b[0;34m=\u001b[0m\u001b[0mncols\u001b[0m\u001b[0;34m,\u001b[0m \u001b[0mfigure\u001b[0m\u001b[0;34m=\u001b[0m\u001b[0mself\u001b[0m\u001b[0;34m,\u001b[0m \u001b[0;34m**\u001b[0m\u001b[0mkwargs\u001b[0m\u001b[0;34m)\u001b[0m\u001b[0;34m\u001b[0m\u001b[0;34m\u001b[0m\u001b[0m\n\u001b[0m\u001b[1;32m   1528\u001b[0m         \u001b[0;32mreturn\u001b[0m \u001b[0mgs\u001b[0m\u001b[0;34m\u001b[0m\u001b[0;34m\u001b[0m\u001b[0m\n\u001b[1;32m   1529\u001b[0m \u001b[0;34m\u001b[0m\u001b[0m\n",
            "\u001b[0;32m/usr/local/lib/python3.10/dist-packages/matplotlib/gridspec.py\u001b[0m in \u001b[0;36m__init__\u001b[0;34m(self, nrows, ncols, figure, left, bottom, right, top, wspace, hspace, width_ratios, height_ratios)\u001b[0m\n\u001b[1;32m    377\u001b[0m         \u001b[0mself\u001b[0m\u001b[0;34m.\u001b[0m\u001b[0mfigure\u001b[0m \u001b[0;34m=\u001b[0m \u001b[0mfigure\u001b[0m\u001b[0;34m\u001b[0m\u001b[0;34m\u001b[0m\u001b[0m\n\u001b[1;32m    378\u001b[0m \u001b[0;34m\u001b[0m\u001b[0m\n\u001b[0;32m--> 379\u001b[0;31m         super().__init__(nrows, ncols,\n\u001b[0m\u001b[1;32m    380\u001b[0m                          \u001b[0mwidth_ratios\u001b[0m\u001b[0;34m=\u001b[0m\u001b[0mwidth_ratios\u001b[0m\u001b[0;34m,\u001b[0m\u001b[0;34m\u001b[0m\u001b[0;34m\u001b[0m\u001b[0m\n\u001b[1;32m    381\u001b[0m                          height_ratios=height_ratios)\n",
            "\u001b[0;32m/usr/local/lib/python3.10/dist-packages/matplotlib/gridspec.py\u001b[0m in \u001b[0;36m__init__\u001b[0;34m(self, nrows, ncols, height_ratios, width_ratios)\u001b[0m\n\u001b[1;32m     47\u001b[0m         \"\"\"\n\u001b[1;32m     48\u001b[0m         \u001b[0;32mif\u001b[0m \u001b[0;32mnot\u001b[0m \u001b[0misinstance\u001b[0m\u001b[0;34m(\u001b[0m\u001b[0mnrows\u001b[0m\u001b[0;34m,\u001b[0m \u001b[0mIntegral\u001b[0m\u001b[0;34m)\u001b[0m \u001b[0;32mor\u001b[0m \u001b[0mnrows\u001b[0m \u001b[0;34m<=\u001b[0m \u001b[0;36m0\u001b[0m\u001b[0;34m:\u001b[0m\u001b[0;34m\u001b[0m\u001b[0;34m\u001b[0m\u001b[0m\n\u001b[0;32m---> 49\u001b[0;31m             raise ValueError(\n\u001b[0m\u001b[1;32m     50\u001b[0m                 f\"Number of rows must be a positive integer, not {nrows!r}\")\n\u001b[1;32m     51\u001b[0m         \u001b[0;32mif\u001b[0m \u001b[0;32mnot\u001b[0m \u001b[0misinstance\u001b[0m\u001b[0;34m(\u001b[0m\u001b[0mncols\u001b[0m\u001b[0;34m,\u001b[0m \u001b[0mIntegral\u001b[0m\u001b[0;34m)\u001b[0m \u001b[0;32mor\u001b[0m \u001b[0mncols\u001b[0m \u001b[0;34m<=\u001b[0m \u001b[0;36m0\u001b[0m\u001b[0;34m:\u001b[0m\u001b[0;34m\u001b[0m\u001b[0;34m\u001b[0m\u001b[0m\n",
            "\u001b[0;31mValueError\u001b[0m: Number of rows must be a positive integer, not 0"
          ]
        },
        {
          "output_type": "display_data",
          "data": {
            "text/plain": [
              "<Figure size 1500x0 with 0 Axes>"
            ]
          },
          "metadata": {}
        }
      ]
    },
    {
      "cell_type": "markdown",
      "source": [
        "## Check for outliers\n",
        "calculating a percentages of outliner in the total dataset using the IQR method.\n"
      ],
      "metadata": {
        "id": "AAPewT3uv2tE"
      }
    },
    {
      "cell_type": "code",
      "source": [
        "Q1 = X_selected_train.quantile(0.25)\n",
        "Q3 = X_selected_train.quantile(0.75)\n",
        "\n",
        "# Calculate the IQR (Interquartile Range) for each column\n",
        "IQR = Q3 - Q1\n",
        "\n",
        "# Identify outliers using the IQR method\n",
        "# Any value below Q1 - 1.5 * IQR\n",
        "# or above Q3 + 1.5 * IQR is considered an outlier\n",
        "outliers = ((X_selected_train < (Q1 - 1.5 * IQR)) |\n",
        " (X_selected_train > (Q3 + 1.5 * IQR))).sum().sum()\n",
        "\n",
        "# Calculate the percentage of outliers\n",
        "total_data_points = X_selected_train.size\n",
        "total_percentage_outliers = (outliers / total_data_points) * 100\n",
        "\n",
        "# Print the percentage of outliers for each column\n",
        "print(\"Percentage of outliers:\")\n",
        "print(total_percentage_outliers)"
      ],
      "metadata": {
        "colab": {
          "base_uri": "https://localhost:8080/"
        },
        "id": "Ly9W1Vt7v4zJ",
        "outputId": "b4096b37-202d-4859-eae2-fd50d8035ba5"
      },
      "execution_count": 56,
      "outputs": [
        {
          "output_type": "stream",
          "name": "stdout",
          "text": [
            "Percentage of outliers:\n",
            "4.877748200729568\n"
          ]
        }
      ]
    },
    {
      "cell_type": "markdown",
      "source": [
        "## Standardization\n",
        "Given the amount of outliners in the that set standardization is used. This because it is less affected by the outliners."
      ],
      "metadata": {
        "id": "QwBReRXEv5nk"
      }
    },
    {
      "cell_type": "code",
      "source": [
        "from sklearn.preprocessing import StandardScaler\n",
        "\n",
        "# Create a StandardScaler instance\n",
        "scaler = StandardScaler()\n",
        "\n",
        "# Fit the scaler to the training data and transform it\n",
        "X_train_scaled = scaler.fit_transform(X_selected_train)\n",
        "X_train_scaled_df = pd.DataFrame(X_train_scaled,\n",
        "                                 columns=X_selected_train.columns,\n",
        "                                 index=X_selected_train.index)\n",
        "\n",
        "# Transform the test data using the same scaler\n",
        "X_test_scaled = scaler.transform(X_selected_train)\n",
        "X_test_scaled_df = pd.DataFrame(X_test_scaled,\n",
        "                                columns=X_selected_train.columns,\n",
        "                                index=X_selected_train.index)\n"
      ],
      "metadata": {
        "id": "0MI0ANYUv8YV"
      },
      "execution_count": 62,
      "outputs": []
    },
    {
      "cell_type": "code",
      "source": [
        "print(X_train_scaled_df.head())"
      ],
      "metadata": {
        "id": "5YGyl_051ohk",
        "outputId": "086025e5-c516-4ab6-c254-7dc997424538",
        "colab": {
          "base_uri": "https://localhost:8080/"
        }
      },
      "execution_count": 60,
      "outputs": [
        {
          "output_type": "stream",
          "name": "stdout",
          "text": [
            "            PREDICT_original_sf_compactness_avg_2.5D  \\\n",
            "ID                                                     \n",
            "Lipo-059_0                                 -0.990269   \n",
            "Lipo-090_0                                  1.877608   \n",
            "Lipo-046_0                                  0.063245   \n",
            "Lipo-013_0                                  1.302965   \n",
            "Lipo-034_0                                  0.679636   \n",
            "\n",
            "            PREDICT_original_sf_compactness_std_2.5D  \\\n",
            "ID                                                     \n",
            "Lipo-059_0                                  0.511804   \n",
            "Lipo-090_0                                 -1.449065   \n",
            "Lipo-046_0                                  0.052161   \n",
            "Lipo-013_0                                 -0.809150   \n",
            "Lipo-034_0                                  0.720072   \n",
            "\n",
            "            PREDICT_original_sf_rad_dist_avg_2.5D  \\\n",
            "ID                                                  \n",
            "Lipo-059_0                               0.967632   \n",
            "Lipo-090_0                              -1.403136   \n",
            "Lipo-046_0                               0.811707   \n",
            "Lipo-013_0                              -0.397807   \n",
            "Lipo-034_0                              -0.166856   \n",
            "\n",
            "            PREDICT_original_sf_rad_dist_std_2.5D  \\\n",
            "ID                                                  \n",
            "Lipo-059_0                               0.336358   \n",
            "Lipo-090_0                              -1.362741   \n",
            "Lipo-046_0                               0.402446   \n",
            "Lipo-013_0                              -0.647227   \n",
            "Lipo-034_0                              -0.733969   \n",
            "\n",
            "            PREDICT_original_sf_roughness_avg_2.5D  \\\n",
            "ID                                                   \n",
            "Lipo-059_0                                0.781847   \n",
            "Lipo-090_0                               -0.988429   \n",
            "Lipo-046_0                               -0.394773   \n",
            "Lipo-013_0                               -0.665285   \n",
            "Lipo-034_0                               -0.905398   \n",
            "\n",
            "            PREDICT_original_sf_roughness_std_2.5D  \\\n",
            "ID                                                   \n",
            "Lipo-059_0                                1.261165   \n",
            "Lipo-090_0                               -0.932724   \n",
            "Lipo-046_0                               -0.322504   \n",
            "Lipo-013_0                               -0.651364   \n",
            "Lipo-034_0                               -0.700199   \n",
            "\n",
            "            PREDICT_original_sf_convexity_avg_2.5D  \\\n",
            "ID                                                   \n",
            "Lipo-059_0                               -1.157391   \n",
            "Lipo-090_0                                1.239965   \n",
            "Lipo-046_0                                0.188742   \n",
            "Lipo-013_0                                1.098065   \n",
            "Lipo-034_0                                0.343729   \n",
            "\n",
            "            PREDICT_original_sf_convexity_std_2.5D  \\\n",
            "ID                                                   \n",
            "Lipo-059_0                                1.464245   \n",
            "Lipo-090_0                               -1.550643   \n",
            "Lipo-046_0                               -0.175723   \n",
            "Lipo-013_0                               -1.230049   \n",
            "Lipo-034_0                                0.252748   \n",
            "\n",
            "            PREDICT_original_sf_cvar_avg_2.5D  \\\n",
            "ID                                              \n",
            "Lipo-059_0                          -0.281349   \n",
            "Lipo-090_0                          -1.247308   \n",
            "Lipo-046_0                          -0.486507   \n",
            "Lipo-013_0                          -0.887597   \n",
            "Lipo-034_0                          -1.147480   \n",
            "\n",
            "            PREDICT_original_sf_cvar_std_2.5D  ...  \\\n",
            "ID                                             ...   \n",
            "Lipo-059_0                           1.688283  ...   \n",
            "Lipo-090_0                          -0.705040  ...   \n",
            "Lipo-046_0                          -1.150970  ...   \n",
            "Lipo-013_0                          -0.823987  ...   \n",
            "Lipo-034_0                          -0.755067  ...   \n",
            "\n",
            "            PREDICT_original_phasef_phasecong_kurtosis_WL3_N5  \\\n",
            "ID                                                              \n",
            "Lipo-059_0                                          -0.016111   \n",
            "Lipo-090_0                                          -1.755659   \n",
            "Lipo-046_0                                           0.255278   \n",
            "Lipo-013_0                                           0.088777   \n",
            "Lipo-034_0                                           3.084530   \n",
            "\n",
            "            PREDICT_original_phasef_phasecong_energy_WL3_N5  \\\n",
            "ID                                                            \n",
            "Lipo-059_0                                         2.147232   \n",
            "Lipo-090_0                                        -0.510962   \n",
            "Lipo-046_0                                        -0.294698   \n",
            "Lipo-013_0                                        -0.333502   \n",
            "Lipo-034_0                                        -0.762018   \n",
            "\n",
            "            PREDICT_original_phasef_phasecong_entropy_WL3_N5  \\\n",
            "ID                                                             \n",
            "Lipo-059_0                                          1.797306   \n",
            "Lipo-090_0                                         -0.830979   \n",
            "Lipo-046_0                                          0.528402   \n",
            "Lipo-013_0                                         -0.550032   \n",
            "Lipo-034_0                                         -1.346670   \n",
            "\n",
            "            PREDICT_original_phasef_phasesym_max_WL3_N5  \\\n",
            "ID                                                        \n",
            "Lipo-059_0                                    -0.520388   \n",
            "Lipo-090_0                                     1.371643   \n",
            "Lipo-046_0                                    -1.128472   \n",
            "Lipo-013_0                                    -1.043325   \n",
            "Lipo-034_0                                    -0.312695   \n",
            "\n",
            "            PREDICT_original_phasef_phasesym_mean_WL3_N5  \\\n",
            "ID                                                         \n",
            "Lipo-059_0                                     -0.785430   \n",
            "Lipo-090_0                                      0.669488   \n",
            "Lipo-046_0                                     -1.052468   \n",
            "Lipo-013_0                                     -0.753745   \n",
            "Lipo-034_0                                     -0.693351   \n",
            "\n",
            "            PREDICT_original_phasef_phasesym_std_WL3_N5  \\\n",
            "ID                                                        \n",
            "Lipo-059_0                                    -0.612521   \n",
            "Lipo-090_0                                     1.166865   \n",
            "Lipo-046_0                                    -1.103956   \n",
            "Lipo-013_0                                    -0.978694   \n",
            "Lipo-034_0                                    -0.482716   \n",
            "\n",
            "            PREDICT_original_phasef_phasesym_skewness_WL3_N5  \\\n",
            "ID                                                             \n",
            "Lipo-059_0                                          0.602112   \n",
            "Lipo-090_0                                         -0.454956   \n",
            "Lipo-046_0                                          0.949171   \n",
            "Lipo-013_0                                          0.311284   \n",
            "Lipo-034_0                                          0.499880   \n",
            "\n",
            "            PREDICT_original_phasef_phasesym_kurtosis_WL3_N5  \\\n",
            "ID                                                             \n",
            "Lipo-059_0                                          0.359667   \n",
            "Lipo-090_0                                         -0.561271   \n",
            "Lipo-046_0                                          0.823406   \n",
            "Lipo-013_0                                          0.204661   \n",
            "Lipo-034_0                                          0.238629   \n",
            "\n",
            "            PREDICT_original_phasef_phasesym_energy_WL3_N5  \\\n",
            "ID                                                           \n",
            "Lipo-059_0                                        1.317358   \n",
            "Lipo-090_0                                       -0.638825   \n",
            "Lipo-046_0                                       -0.474046   \n",
            "Lipo-013_0                                       -0.590567   \n",
            "Lipo-034_0                                       -0.650145   \n",
            "\n",
            "            PREDICT_original_phasef_phasesym_entropy_WL3_N5  \n",
            "ID                                                           \n",
            "Lipo-059_0                                         1.530048  \n",
            "Lipo-090_0                                        -1.352214  \n",
            "Lipo-046_0                                         0.116027  \n",
            "Lipo-013_0                                        -0.156111  \n",
            "Lipo-034_0                                        -0.874803  \n",
            "\n",
            "[5 rows x 441 columns]\n"
          ]
        }
      ]
    },
    {
      "cell_type": "markdown",
      "source": [
        "## Data naming\n",
        "calling everything again X_train and X_test so the clasifaction can be done.\n"
      ],
      "metadata": {
        "id": "wvVH57cvv-oQ"
      }
    },
    {
      "cell_type": "code",
      "source": [
        "X_train = X_train_scaled_df\n",
        "X_test = X_test_scaled_df"
      ],
      "metadata": {
        "id": "P81cBz9Uv_4y"
      },
      "execution_count": 10,
      "outputs": []
    },
    {
      "cell_type": "markdown",
      "source": [
        "# Try PCA\n",
        "-> Did not work, do not run this code"
      ],
      "metadata": {
        "id": "RVpWeCPAcUEz"
      }
    },
    {
      "cell_type": "code",
      "source": [
        "import pandas as pd\n",
        "import matplotlib.pyplot as plt\n",
        "import seaborn as sns\n",
        "from sklearn.decomposition import PCA\n",
        "from sklearn import datasets\n",
        "import seaborn as sns\n",
        "import numpy as np\n",
        "\n",
        "# Hyperparameters to tune:\n",
        "numb_components = 70     # number of components\n",
        "\n",
        "# Reduce from 4 to 3 features with PCA\n",
        "pca = PCA(n_components=numb_components)\n",
        "\n",
        "# Fit and transform data\n",
        "pca_features = pca.fit_transform(X_train)\n",
        "\n",
        "# Create a DataFrame from pca_features with column names 'PC1' and 'PC2'\n",
        "pca_df = pd.DataFrame(data=pca_features[:, :2], columns=['PC1', 'PC2'])\n",
        "\n",
        "pca_df = pca_df.rename(index=dict(zip(pca_df.index, y_train.index)))\n",
        "\n",
        "# Add the labels from y_train to the DataFrame\n",
        "pca_df['target'] = y_train\n",
        "\n",
        "print(pca_df.head())\n",
        "\n",
        "# Define target names mapping\n",
        "target_names = {\n",
        "    'lipoma': 'lipoma',\n",
        "    'liposarcoma': 'liposarcoma'\n",
        "}\n",
        "\n",
        "# Map target names to the 'target' column in pca_df\n",
        "pca_df['target'] = pca_df['target'].map(target_names)\n",
        "\n",
        "# Set seaborn style\n",
        "sns.set()\n",
        "\n",
        "# Plot the PCA graph\n",
        "sns.lmplot(\n",
        "    x='PC1',\n",
        "    y='PC2',\n",
        "    data=pca_df,\n",
        "    hue='target',\n",
        "    fit_reg=False,  # Disable regression line\n",
        "    legend=True\n",
        ")\n",
        "\n",
        "# Set plot title\n",
        "plt.title('2D PCA Graph')\n",
        "\n",
        "# Show the plot\n",
        "plt.show()"
      ],
      "metadata": {
        "colab": {
          "base_uri": "https://localhost:8080/",
          "height": 611
        },
        "id": "-aCKg0XFcYlt",
        "outputId": "ec1273ca-2359-4dd9-8e2b-f039b90cc024"
      },
      "execution_count": 61,
      "outputs": [
        {
          "output_type": "stream",
          "name": "stdout",
          "text": [
            "                     PC1           PC2       target\n",
            "Lipo-059_0 -1.732855e+11 -5.424640e+09  liposarcoma\n",
            "Lipo-090_0 -1.804469e+11 -6.275815e+09       lipoma\n",
            "Lipo-046_0 -1.788633e+11 -6.120270e+09  liposarcoma\n",
            "Lipo-013_0 -1.796777e+11 -6.197236e+09  liposarcoma\n",
            "Lipo-034_0 -1.801991e+11 -6.240876e+09       lipoma\n"
          ]
        },
        {
          "output_type": "display_data",
          "data": {
            "text/plain": [
              "<Figure size 648.125x500 with 1 Axes>"
            ],
            "image/png": "[encoded data removed]"
          },
          "metadata": {}
        }
      ]
    },
    {
      "cell_type": "markdown",
      "source": [
        "## Choosing the right classifier\n",
        "\n",
        "**Explanation of what is happening**\n"
      ],
      "metadata": {
        "id": "rVb3rL0srNJF"
      }
    },
    {
      "cell_type": "code",
      "source": [
        "#import pandas as pd\n",
        "#from worclipo.load_data import load_data\n",
        "from sklearn.feature_selection import SelectKBest, chi2\n",
        "from sklearn.model_selection import cross_val_score\n",
        "from sklearn import svm\n",
        "from sklearn.ensemble import HistGradientBoostingClassifier, ExtraTreesClassifier, BaggingClassifier, VotingClassifier\n",
        "from sklearn.neighbors import KNeighborsClassifier\n",
        "from sklearn.linear_model import LogisticRegression\n",
        "from sklearn.naive_bayes import GaussianNB\n",
        "from sklearn.ensemble import RandomForestClassifier\n",
        "#import matplotlib.pyplot as plt\n",
        "#from sklearn.model_selection import train_test_split\n",
        "from sklearn import datasets\n",
        "#from sklearn.preprocessing import StandardScaler\n",
        "from sklearn.decomposition import PCA\n",
        "import seaborn as sns\n",
        "import numpy as np\n",
        "import pandas as pd\n",
        "import matplotlib.pyplot as plt\n",
        "from sklearn.preprocessing import LabelEncoder\n",
        "from sklearn.feature_selection import f_classif\n",
        "from statsmodels.sandbox.stats.multicomp import multipletests"
      ],
      "metadata": {
        "id": "9r9qVL7ttYzm"
      },
      "execution_count": null,
      "outputs": []
    },
    {
      "cell_type": "markdown",
      "source": [
        "#Feature Selection"
      ],
      "metadata": {
        "id": "GHJKtpbitkrM"
      }
    },
    {
      "cell_type": "code",
      "source": [
        "\n",
        "# ---------------------FEATURE SELECTION -----------------------------------------------\n",
        "# HYPERPARAMETER = aantal features om te selecteren\n",
        "\n",
        "N1 = 6;\n",
        "N2 = 10;\n",
        "N3 = 50;\n",
        "\n",
        "# Encode target variable\n",
        "from sklearn.preprocessing import LabelEncoder\n",
        "\n",
        "label_encoder = LabelEncoder()\n",
        "y_train_encoded = label_encoder.fit_transform(y_train)\n",
        "\n",
        "# -------  ANOVA\n",
        "\n",
        "# Compute F-statistics and p-values using f_classif\n",
        "F_values, p_values = f_classif(X_train, y_train_encoded)\n",
        "\n",
        "# Bonferroni correction on the p-values to correct for multiple testing\n",
        "_, p_adjusted, _, alpha_corrected = multipletests(p_values, method='bonferroni')\n",
        "\n",
        "# Create a DataFrame with feature names, F-values, and p-values\n",
        "feature_stats_df = pd.DataFrame({'F-value': F_values, 'p-value': p_adjusted}, index=X_train.columns)\n",
        "\n",
        "# Sort features based on absolute correlation values and select top 20\n",
        "sorted_features_1 = feature_stats_df.abs().nlargest(N1, 'F-value')\n",
        "sorted_features_2 = feature_stats_df.abs().nlargest(N2, 'F-value')\n",
        "sorted_features_3 = feature_stats_df.abs().nlargest(N3, 'F-value')\n",
        "\n",
        "# Maak nieuwe kleinere datasets met minder features\n",
        "X_train_sel_1 = X_train.loc[:, sorted_features_1.index]\n",
        "X_train_sel_2 = X_train.loc[:, sorted_features_2.index]\n",
        "X_train_sel_3 = X_train.loc[:, sorted_features_3.index]\n"
      ],
      "metadata": {
        "id": "GV4lS5zAr22P",
        "outputId": "3a30258a-163a-4a64-acee-89c6a2432049",
        "colab": {
          "base_uri": "https://localhost:8080/"
        }
      },
      "execution_count": 29,
      "outputs": [
        {
          "output_type": "stream",
          "name": "stderr",
          "text": [
            "/usr/local/lib/python3.10/dist-packages/sklearn/preprocessing/_label.py:116: DataConversionWarning: A column-vector y was passed when a 1d array was expected. Please change the shape of y to (n_samples, ), for example using ravel().\n",
            "  y = column_or_1d(y, warn=True)\n"
          ]
        }
      ]
    },
    {
      "cell_type": "markdown",
      "source": [
        "# Train classifiers"
      ],
      "metadata": {
        "id": "tHcDxXb_toxc"
      }
    },
    {
      "cell_type": "code",
      "source": [
        "# ---------------------CLASSIFIERS -------------------------------------------------------------\n",
        "\"\"\"\n",
        "classifiers = [\n",
        "    (svm.SVC(kernel='linear', C=1.0, random_state=42), \"LinSVM\"),\n",
        "    (svm.SVC(kernel=\"rbf\", gamma=0.7, C=1.0), \"rbfSVM\"),\n",
        "    (svm.SVC(kernel=\"poly\", degree=2, gamma=\"auto\", C=1.0), \"polySVM\"),\n",
        "    (HistGradientBoostingClassifier(max_iter=100), \"GBDT\"),\n",
        "    (KNeighborsClassifier(n_neighbors=5), \"KNN\"),\n",
        "    (ExtraTreesClassifier(n_estimators=10, max_depth=None, min_samples_split=2, random_state=0), \"RF\"),\n",
        "    (BaggingClassifier(KNeighborsClassifier(), max_samples=0.5, max_features=0.5), \"Bagging meta-estimator\"),\n",
        "    (LogisticRegression(random_state=1), \"LR\"),\n",
        "    (GaussianNB(), \"NB\")\n",
        "]\"\"\"\n",
        "\n",
        "classifiers = [\n",
        "    (svm.SVC(kernel='linear', C=1.0, random_state=42), \"LinSVM\"),\n",
        "    (KNeighborsClassifier(n_neighbors=5), \"KNN\"),\n",
        "    (ExtraTreesClassifier(n_estimators=10, max_depth=None, min_samples_split=2, random_state=0), \"RF\")]\n",
        "\n",
        "results = {}\n",
        "for clf, label in classifiers:\n",
        "    # Scores berekenen voor N1 aantal features\n",
        "    scores_N1 = cross_val_score(clf, X_train_sel_1, y_train_encoded, cv=5)\n",
        "    mean_accuracy_N1 = scores_N1.mean()\n",
        "    std_dev_N1 = scores_N1.std()\n",
        "\n",
        "    # Scores berekenen voor N2 aantal features\n",
        "    scores_N2 = cross_val_score(clf, X_train_sel_2, y_train_encoded, cv=5)\n",
        "    mean_accuracy_N2 = scores_N2.mean()\n",
        "    std_dev_N2 = scores_N2.std()\n",
        "\n",
        "    # Scores berekenen voor N3 aantal features\n",
        "    scores_N3 = cross_val_score(clf, X_train_sel_3, y_train_encoded, cv=5)\n",
        "    mean_accuracy_N3 = scores_N3.mean()\n",
        "    std_dev_N3 = scores_N3.std()\n",
        "\n",
        "    # Opslaan van resultaten\n",
        "    results[label + f' ({N1} features)'] = (mean_accuracy_N1, std_dev_N1)\n",
        "    results[label + f' ({N2} features)'] = (mean_accuracy_N2, std_dev_N2)\n",
        "    results[label + f' ({N3} features)'] = (mean_accuracy_N3, std_dev_N3)"
      ],
      "metadata": {
        "id": "ewM80mXsZAUl"
      },
      "execution_count": 30,
      "outputs": []
    },
    {
      "cell_type": "markdown",
      "source": [
        "**Visualization of the performance of the different classifiers**"
      ],
      "metadata": {
        "id": "V0cINMz7sAZ7"
      }
    },
    {
      "cell_type": "code",
      "source": [
        "# Plot resultaten\n",
        "labels = list(results.keys())\n",
        "mean_accuracies = [result[0] for result in results.values()]\n",
        "std_devs = [result[1] for result in results.values()]\n",
        "colors = ['skyblue', 'skyblue', 'skyblue', 'orange', 'orange', 'orange', 'green', 'green', 'green', 'pink', 'pink', 'pink']\n",
        "\n",
        "plt.figure(figsize=(10, 6))\n",
        "bars = plt.barh(labels, mean_accuracies, xerr=std_devs, edgecolor='black', alpha=0.7)\n",
        "\n",
        "# Loop door elke balk en pas de kleur aan op basis van de index van de classifier in de lijst\n",
        "for i, bar in enumerate(bars):\n",
        "    bar.set_color(colors[i % len(colors)])  # Gebruik modulo om ervoor te zorgen dat kleuren worden hergebruikt indien nodig\n",
        "    plt.text(bar.get_width(), bar.get_y() + bar.get_height()/2, f'{mean_accuracies[i]:.2f}', va='center')\n",
        "\n",
        "plt.xlabel('Mean Accuracy')\n",
        "plt.title('Performance of Different Classifiers')\n",
        "plt.xlim(0, 1)\n",
        "plt.gca().invert_yaxis()\n",
        "plt.show()"
      ],
      "metadata": {
        "id": "vWg9mOxtr_h0",
        "outputId": "e3f7b254-7cab-4135-98c5-812c9108d54c",
        "colab": {
          "base_uri": "https://localhost:8080/",
          "height": 573
        }
      },
      "execution_count": 31,
      "outputs": [
        {
          "output_type": "display_data",
          "data": {
            "text/plain": [
              "<Figure size 1000x600 with 1 Axes>"
            ],
            "image/png": "[encoded data removed]"
          },
          "metadata": {}
        }
      ]
    },
    {
      "cell_type": "markdown",
      "source": [
        "## Optimalization of the GBDT classifier"
      ],
      "metadata": {
        "id": "lk4LBp0usuJG"
      }
    },
    {
      "cell_type": "markdown",
      "source": [
        "**Explanation of code**"
      ],
      "metadata": {
        "id": "P6ueBBYUs2mH"
      }
    },
    {
      "cell_type": "code",
      "source": [
        "from sklearn.model_selection import RandomizedSearchCV\n",
        "from sklearn.ensemble import GradientBoostingClassifier\n",
        "from sklearn.svm import SVC\n",
        "from sklearn.linear_model import LogisticRegression\n",
        "\n",
        "# Define parameter grid for GBDT\n",
        "param_distributions_gbdt = {\n",
        "    'n_estimators': np.arange(50, 401, 50),\n",
        "    'learning_rate': [0.05, 0.1, 0.2],\n",
        "    'max_depth': [3, 4, 5]\n",
        "}\n",
        "\n",
        "# Define parameter grid for LinSVM\n",
        "param_distributions_svm = {\n",
        "    'C': [0.1, 1, 10],\n",
        "    'kernel': ['linear']\n",
        "}\n",
        "\n",
        "# Define parameter grid for LR\n",
        "param_distributions_lr = {\n",
        "    'C': [0.1, 1, 10],\n",
        "    'solver': ['liblinear', 'lbfgs'],\n",
        "    'max_iter': [500, 1000, 1500]\n",
        "}\n",
        "\n",
        "# Perform optimization and training for PCA_80\n",
        "classifiers = [(GradientBoostingClassifier(), param_distributions_gbdt, 'GBDT'),\n",
        "               (SVC(), param_distributions_svm, 'LinSVM'),\n",
        "               (LogisticRegression(), param_distributions_lr, 'LR')]\n",
        "\n",
        "for clf, param_dist, label in classifiers:\n",
        "    randomized_search = RandomizedSearchCV(clf, param_dist, cv=5, n_iter=20, random_state=42)\n",
        "    randomized_search.fit(X_train_PCA80, y_train)\n",
        "    print(f\"Best Parameters for {label} (PCA_80):\", randomized_search.best_params_)\n",
        "\n",
        "# Perform optimization and training for PCA_90\n",
        "for clf, param_dist, label in classifiers:\n",
        "    randomized_search = RandomizedSearchCV(clf, param_dist, cv=5, n_iter=20, random_state=42)\n",
        "    randomized_search.fit(X_train_PCA90, y_train)\n",
        "    print(f\"Best Parameters for {label} (PCA_90):\", randomized_search.best_params_)\n",
        "\n",
        "\n"
      ],
      "metadata": {
        "id": "wKRcTQHss49s",
        "colab": {
          "base_uri": "https://localhost:8080/",
          "height": 211
        },
        "outputId": "a071ac6b-348d-4afb-decb-bbc95b08f54f"
      },
      "execution_count": null,
      "outputs": [
        {
          "output_type": "error",
          "ename": "NameError",
          "evalue": "name 'np' is not defined",
          "traceback": [
            "\u001b[0;31m---------------------------------------------------------------------------\u001b[0m",
            "\u001b[0;31mNameError\u001b[0m                                 Traceback (most recent call last)",
            "\u001b[0;32m<ipython-input-1-fd0e1565dd6e>\u001b[0m in \u001b[0;36m<cell line: 8>\u001b[0;34m()\u001b[0m\n\u001b[1;32m      6\u001b[0m \u001b[0;31m# Define parameter grid for GBDT\u001b[0m\u001b[0;34m\u001b[0m\u001b[0;34m\u001b[0m\u001b[0m\n\u001b[1;32m      7\u001b[0m param_distributions_gbdt = {\n\u001b[0;32m----> 8\u001b[0;31m     \u001b[0;34m'n_estimators'\u001b[0m\u001b[0;34m:\u001b[0m \u001b[0mnp\u001b[0m\u001b[0;34m.\u001b[0m\u001b[0marange\u001b[0m\u001b[0;34m(\u001b[0m\u001b[0;36m50\u001b[0m\u001b[0;34m,\u001b[0m \u001b[0;36m401\u001b[0m\u001b[0;34m,\u001b[0m \u001b[0;36m50\u001b[0m\u001b[0;34m)\u001b[0m\u001b[0;34m,\u001b[0m\u001b[0;34m\u001b[0m\u001b[0;34m\u001b[0m\u001b[0m\n\u001b[0m\u001b[1;32m      9\u001b[0m     \u001b[0;34m'learning_rate'\u001b[0m\u001b[0;34m:\u001b[0m \u001b[0;34m[\u001b[0m\u001b[0;36m0.05\u001b[0m\u001b[0;34m,\u001b[0m \u001b[0;36m0.1\u001b[0m\u001b[0;34m,\u001b[0m \u001b[0;36m0.2\u001b[0m\u001b[0;34m]\u001b[0m\u001b[0;34m,\u001b[0m\u001b[0;34m\u001b[0m\u001b[0;34m\u001b[0m\u001b[0m\n\u001b[1;32m     10\u001b[0m     \u001b[0;34m'max_depth'\u001b[0m\u001b[0;34m:\u001b[0m \u001b[0;34m[\u001b[0m\u001b[0;36m3\u001b[0m\u001b[0;34m,\u001b[0m \u001b[0;36m4\u001b[0m\u001b[0;34m,\u001b[0m \u001b[0;36m5\u001b[0m\u001b[0;34m]\u001b[0m\u001b[0;34m\u001b[0m\u001b[0;34m\u001b[0m\u001b[0m\n",
            "\u001b[0;31mNameError\u001b[0m: name 'np' is not defined"
          ]
        }
      ]
    },
    {
      "cell_type": "code",
      "source": [
        "import matplotlib.pyplot as plt\n",
        "\n",
        "# Lijsten om beste parameters en mean accuracy op te slaan\n",
        "best_params_list = []\n",
        "mean_accuracy_list = []\n",
        "\n",
        "# Grid search en training voor PCA_80\n",
        "for clf, param_grid, label in classifiers:\n",
        "    grid_search = GridSearchCV(clf, param_grid, cv=5)\n",
        "    grid_search.fit(X_train_PCA80, y_train)\n",
        "    best_params = grid_search.best_params_\n",
        "    mean_accuracy = grid_search.best_score_\n",
        "    best_params_list.append((label, best_params))\n",
        "    mean_accuracy_list.append((label, mean_accuracy))\n",
        "\n",
        "# Grid search en training voor PCA_90\n",
        "for clf, param_grid, label in classifiers:\n",
        "    grid_search = GridSearchCV(clf, param_grid, cv=5)\n",
        "    grid_search.fit(X_train_PCA90, y_train)\n",
        "    best_params = grid_search.best_params_\n",
        "    mean_accuracy = grid_search.best_score_\n",
        "    best_params_list.append((label, best_params))\n",
        "    mean_accuracy_list.append((label, mean_accuracy))\n",
        "\n",
        "# Sorteer mean accuracy van hoog naar laag\n",
        "mean_accuracy_list.sort(key=lambda x: x[1], reverse=True)\n",
        "\n",
        "# Plot mean accuracy voor elke classifier\n",
        "plt.figure(figsize=(10, 6))\n",
        "classifiers_labels = [clf_label for clf_label, _ in mean_accuracy_list]\n",
        "mean_accuracies = [accuracy for _, accuracy in mean_accuracy_list]\n",
        "plt.barh(classifiers_labels, mean_accuracies, color='skyblue')\n",
        "plt.xlabel('Mean Accuracy')\n",
        "plt.title('Mean Accuracy of Classifiers with Best Parameters')\n",
        "plt.gca().invert_yaxis()  # Om de classifiers van hoog naar laag te tonen\n",
        "plt.show()"
      ],
      "metadata": {
        "id": "Ef8xvX0x56-O",
        "outputId": "ccd04d4b-54ce-4a25-9537-5cfdded3234d",
        "colab": {
          "base_uri": "https://localhost:8080/",
          "height": 564
        }
      },
      "execution_count": null,
      "outputs": [
        {
          "output_type": "display_data",
          "data": {
            "text/plain": [
              "<Figure size 1000x600 with 1 Axes>"
            ],
            "image/png": "[encoded data removed]"
          },
          "metadata": {}
        }
      ]
    },
    {
      "cell_type": "markdown",
      "source": [
        "## Visualization of the performance of the trained classifier"
      ],
      "metadata": {
        "id": "0Kkk9J6AtE7v"
      }
    },
    {
      "cell_type": "code",
      "source": [
        "import matplotlib.pyplot as plt\n",
        "\n",
        "# Get the mean accuracies and standard deviations of the optimized classifiers\n",
        "optimized_classifiers = ['GBDT (PCA 80%)', 'GBDT (PCA 90%)', 'LinSVM (PCA 80%)', 'LinSVM (PCA 90%)', 'LR (PCA 80%)', 'LR (PCA 90%)']\n",
        "mean_accuracies = [results[classifier][0] for classifier in optimized_classifiers]\n",
        "std_devs = [results[classifier][1] for classifier in optimized_classifiers]\n",
        "\n",
        "# Define colors for the bars\n",
        "colors = ['skyblue', 'skyblue', 'orange', 'orange', 'green', 'green']\n",
        "\n",
        "# Plot the mean accuracies\n",
        "plt.figure(figsize=(10, 6))\n",
        "bars = plt.barh(optimized_classifiers, mean_accuracies, xerr=std_devs, edgecolor='black', alpha=0.7)\n",
        "\n",
        "# Loop through each bar and set its color based on the index of the classifier in the list\n",
        "for i, bar in enumerate(bars):\n",
        "    bar.set_color(colors[i % len(colors)])  # Use modulo to ensure colors are reused if necessary\n",
        "    plt.text(bar.get_width(), bar.get_y() + bar.get_height()/2, f'{mean_accuracies[i]:.2f}', va='center')\n",
        "\n",
        "plt.xlabel('Mean Accuracy')\n",
        "plt.title('Performance of Optimized Classifiers')\n",
        "plt.xlim(0, 1)\n",
        "plt.gca().invert_yaxis()\n",
        "plt.show()\n",
        "\n"
      ],
      "metadata": {
        "id": "PPYpp-a8tKIT",
        "colab": {
          "base_uri": "https://localhost:8080/",
          "height": 564
        },
        "outputId": "41934eab-f7ca-47e8-b451-c796539444d6"
      },
      "execution_count": null,
      "outputs": [
        {
          "output_type": "display_data",
          "data": {
            "text/plain": [
              "<Figure size 1000x600 with 1 Axes>"
            ],
            "image/png": "[encoded data removed]"
          },
          "metadata": {}
        }
      ]
    },
    {
      "cell_type": "code",
      "source": [],
      "metadata": {
        "id": "fvClqcKI54Qz"
      },
      "execution_count": null,
      "outputs": []
    },
    {
      "cell_type": "code",
      "source": [
        "from sklearn.model_selection import learning_curve\n",
        "\n",
        "# Definieer een functie om de leercurve te plotten\n",
        "def plot_learning_curve(estimator, title, X, y, axes=None, ylim=None, cv=None,\n",
        "                        n_jobs=None, train_sizes=np.linspace(.1, 1.0, 5)):\n",
        "    train_sizes, train_scores, test_scores = \\\n",
        "        learning_curve(estimator, X, y, cv=cv, n_jobs=n_jobs,\n",
        "                       train_sizes=train_sizes,\n",
        "                       return_times=False)  # Verwijder `return_times=True` omdat we geen fit_times verwachten\n",
        "\n",
        "    train_scores_mean = np.mean(train_scores, axis=1)\n",
        "    train_scores_std = np.std(train_scores, axis=1)\n",
        "    test_scores_mean = np.mean(test_scores, axis=1)\n",
        "    test_scores_std = np.std(test_scores, axis=1)\n",
        "\n",
        "    plt.figure(figsize=(10, 6))\n",
        "    plt.title(title)\n",
        "    if ylim is not None:\n",
        "        plt.ylim(*ylim)\n",
        "    plt.xlabel(\"Trainingsvoorbeelden\")\n",
        "    plt.ylabel(\"Score\")\n",
        "    plt.grid()\n",
        "\n",
        "    plt.fill_between(train_sizes, train_scores_mean - train_scores_std,\n",
        "                     train_scores_mean + train_scores_std, alpha=0.1,\n",
        "                     color=\"r\")\n",
        "    plt.fill_between(train_sizes, test_scores_mean - test_scores_std,\n",
        "                     test_scores_mean + test_scores_std, alpha=0.1,\n",
        "                     color=\"g\")\n",
        "    plt.plot(train_sizes, train_scores_mean, 'o-', color=\"r\",\n",
        "             label=\"Trainingscore\")\n",
        "    plt.plot(train_sizes, test_scores_mean, 'o-', color=\"g\",\n",
        "             label=\"Validatiescore\")\n",
        "\n",
        "    plt.legend(loc=\"best\")\n",
        "    return plt\n",
        "\n",
        "# Plot leercurve voor elke classifier\n",
        "for clf, params, label in classifiers:\n",
        "    randomized_search = RandomizedSearchCV(clf, params, cv=5, n_iter=20, random_state=42)\n",
        "    randomized_search.fit(X_train_PCA80, y_train)\n",
        "\n",
        "    best_estimator = randomized_search.best_estimator_\n",
        "\n",
        "    plot_learning_curve(best_estimator, f\"Learning Curve ({label})\", X_train_PCA80, y_train, cv=5)\n",
        "    plt.show()\n",
        "\n"
      ],
      "metadata": {
        "colab": {
          "base_uri": "https://localhost:8080/",
          "height": 211
        },
        "id": "r4tXpPzm5sIb",
        "outputId": "7b2f5171-0812-49e9-d8fd-aeefb5fc83fc"
      },
      "execution_count": null,
      "outputs": [
        {
          "output_type": "error",
          "ename": "NameError",
          "evalue": "name 'RandomizedSearchCV' is not defined",
          "traceback": [
            "\u001b[0;31m---------------------------------------------------------------------------\u001b[0m",
            "\u001b[0;31mNameError\u001b[0m                                 Traceback (most recent call last)",
            "\u001b[0;32m<ipython-input-17-cefb1a4b4bf8>\u001b[0m in \u001b[0;36m<cell line: 39>\u001b[0;34m()\u001b[0m\n\u001b[1;32m     38\u001b[0m \u001b[0;31m# Plot leercurve voor elke classifier\u001b[0m\u001b[0;34m\u001b[0m\u001b[0;34m\u001b[0m\u001b[0m\n\u001b[1;32m     39\u001b[0m \u001b[0;32mfor\u001b[0m \u001b[0mclf\u001b[0m\u001b[0;34m,\u001b[0m \u001b[0mparams\u001b[0m\u001b[0;34m,\u001b[0m \u001b[0mlabel\u001b[0m \u001b[0;32min\u001b[0m \u001b[0mclassifiers\u001b[0m\u001b[0;34m:\u001b[0m\u001b[0;34m\u001b[0m\u001b[0;34m\u001b[0m\u001b[0m\n\u001b[0;32m---> 40\u001b[0;31m     \u001b[0mrandomized_search\u001b[0m \u001b[0;34m=\u001b[0m \u001b[0mRandomizedSearchCV\u001b[0m\u001b[0;34m(\u001b[0m\u001b[0mclf\u001b[0m\u001b[0;34m,\u001b[0m \u001b[0mparams\u001b[0m\u001b[0;34m,\u001b[0m \u001b[0mcv\u001b[0m\u001b[0;34m=\u001b[0m\u001b[0;36m5\u001b[0m\u001b[0;34m,\u001b[0m \u001b[0mn_iter\u001b[0m\u001b[0;34m=\u001b[0m\u001b[0;36m20\u001b[0m\u001b[0;34m,\u001b[0m \u001b[0mrandom_state\u001b[0m\u001b[0;34m=\u001b[0m\u001b[0;36m42\u001b[0m\u001b[0;34m)\u001b[0m\u001b[0;34m\u001b[0m\u001b[0;34m\u001b[0m\u001b[0m\n\u001b[0m\u001b[1;32m     41\u001b[0m     \u001b[0mrandomized_search\u001b[0m\u001b[0;34m.\u001b[0m\u001b[0mfit\u001b[0m\u001b[0;34m(\u001b[0m\u001b[0mX_train_PCA80\u001b[0m\u001b[0;34m,\u001b[0m \u001b[0my_train\u001b[0m\u001b[0;34m)\u001b[0m\u001b[0;34m\u001b[0m\u001b[0;34m\u001b[0m\u001b[0m\n\u001b[1;32m     42\u001b[0m \u001b[0;34m\u001b[0m\u001b[0m\n",
            "\u001b[0;31mNameError\u001b[0m: name 'RandomizedSearchCV' is not defined"
          ]
        }
      ]
    }
  ],
  "metadata": {
    "colab": {
      "name": "assignment.ipynb",
      "provenance": []
    },
    "kernelspec": {
      "display_name": "Python 3",
      "name": "python3"
    },
    "language_info": {
      "codemirror_mode": {
        "name": "ipython",
        "version": 3
      },
      "file_extension": ".py",
      "mimetype": "text/x-python",
      "name": "python",
      "nbconvert_exporter": "python",
      "pygments_lexer": "ipython3",
      "version": "3.8.5"
    },
    "accelerator": "TPU"
  },
  "nbformat": 4,
  "nbformat_minor": 0
}