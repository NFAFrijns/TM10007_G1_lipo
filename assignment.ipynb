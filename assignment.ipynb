{
  "cells": [
    {
      "cell_type": "markdown",
      "metadata": {
        "id": "7SXpaKwwGe5x"
      },
      "source": [
        "# TM10007 Assignment template"
      ]
    },
    {
      "cell_type": "markdown",
      "source": [
        "In this part of the code a connection is made between github and this file.\n",
        "All the documents from github are imported, inluding our data.\n",
        "The files that are not needed for our assignment were deleted from github."
      ],
      "metadata": {
        "id": "Alk8IgHyUESq"
      }
    },
    {
      "cell_type": "code",
      "execution_count": 12,
      "metadata": {
        "colab": {
          "base_uri": "https://localhost:8080/"
        },
        "id": "CiDn2Sk-VWqE",
        "outputId": "4c81b99e-9140-4afc-9293-908a4a00348c"
      },
      "outputs": [
        {
          "output_type": "stream",
          "name": "stdout",
          "text": [
            "  Preparing metadata (setup.py) ... \u001b[?25l\u001b[?25hdone\n",
            "\u001b[2K     \u001b[90m━━━━━━━━━━━━━━━━━━━━━━━━━━━━━━━━━━━━━━━━\u001b[0m \u001b[32m23.7/23.7 MB\u001b[0m \u001b[31m27.7 MB/s\u001b[0m eta \u001b[36m0:00:00\u001b[0m\n",
            "\u001b[2K     \u001b[90m━━━━━━━━━━━━━━━━━━━━━━━━━━━━━━━━━━━━━━━━\u001b[0m \u001b[32m823.6/823.6 kB\u001b[0m \u001b[31m45.4 MB/s\u001b[0m eta \u001b[36m0:00:00\u001b[0m\n",
            "\u001b[2K     \u001b[90m━━━━━━━━━━━━━━━━━━━━━━━━━━━━━━━━━━━━━━━━\u001b[0m \u001b[32m14.1/14.1 MB\u001b[0m \u001b[31m31.3 MB/s\u001b[0m eta \u001b[36m0:00:00\u001b[0m\n",
            "\u001b[2K     \u001b[90m━━━━━━━━━━━━━━━━━━━━━━━━━━━━━━━━━━━━━━━━\u001b[0m \u001b[32m731.7/731.7 MB\u001b[0m \u001b[31m672.2 kB/s\u001b[0m eta \u001b[36m0:00:00\u001b[0m\n",
            "\u001b[2K     \u001b[90m━━━━━━━━━━━━━━━━━━━━━━━━━━━━━━━━━━━━━━━━\u001b[0m \u001b[32m410.6/410.6 MB\u001b[0m \u001b[31m1.2 MB/s\u001b[0m eta \u001b[36m0:00:00\u001b[0m\n",
            "\u001b[2K     \u001b[90m━━━━━━━━━━━━━━━━━━━━━━━━━━━━━━━━━━━━━━━━\u001b[0m \u001b[32m121.6/121.6 MB\u001b[0m \u001b[31m1.3 MB/s\u001b[0m eta \u001b[36m0:00:00\u001b[0m\n",
            "\u001b[2K     \u001b[90m━━━━━━━━━━━━━━━━━━━━━━━━━━━━━━━━━━━━━━━━\u001b[0m \u001b[32m56.5/56.5 MB\u001b[0m \u001b[31m1.3 MB/s\u001b[0m eta \u001b[36m0:00:00\u001b[0m\n",
            "\u001b[2K     \u001b[90m━━━━━━━━━━━━━━━━━━━━━━━━━━━━━━━━━━━━━━━━\u001b[0m \u001b[32m124.2/124.2 MB\u001b[0m \u001b[31m1.4 MB/s\u001b[0m eta \u001b[36m0:00:00\u001b[0m\n",
            "\u001b[2K     \u001b[90m━━━━━━━━━━━━━━━━━━━━━━━━━━━━━━━━━━━━━━━━\u001b[0m \u001b[32m196.0/196.0 MB\u001b[0m \u001b[31m1.0 MB/s\u001b[0m eta \u001b[36m0:00:00\u001b[0m\n",
            "\u001b[2K     \u001b[90m━━━━━━━━━━━━━━━━━━━━━━━━━━━━━━━━━━━━━━━━\u001b[0m \u001b[32m166.0/166.0 MB\u001b[0m \u001b[31m1.5 MB/s\u001b[0m eta \u001b[36m0:00:00\u001b[0m\n",
            "\u001b[2K     \u001b[90m━━━━━━━━━━━━━━━━━━━━━━━━━━━━━━━━━━━━━━━━\u001b[0m \u001b[32m99.1/99.1 kB\u001b[0m \u001b[31m1.0 MB/s\u001b[0m eta \u001b[36m0:00:00\u001b[0m\n",
            "\u001b[2K     \u001b[90m━━━━━━━━━━━━━━━━━━━━━━━━━━━━━━━━━━━━━━━━\u001b[0m \u001b[32m21.1/21.1 MB\u001b[0m \u001b[31m2.0 MB/s\u001b[0m eta \u001b[36m0:00:00\u001b[0m\n",
            "\u001b[?25h  Building wheel for ktml (setup.py) ... \u001b[?25l\u001b[?25hdone\n"
          ]
        }
      ],
      "source": [
        "# Run this to use from colab environment\n",
        "!pip install -q --upgrade git+https://github.com/NFAFrijns/TM10007_G1_lipo.git"
      ]
    },
    {
      "cell_type": "markdown",
      "metadata": {
        "id": "5ZxITZZaOeIO"
      },
      "source": [
        "## Data loading and cleaning\n",
        "\n",
        "Below are functions to load the dataset of your choice. After that, it is all up to you to create and evaluate a classification method. Beware, there may be missing values in these datasets. Good luck!"
      ]
    },
    {
      "cell_type": "code",
      "execution_count": 29,
      "metadata": {
        "colab": {
          "base_uri": "https://localhost:8080/"
        },
        "id": "-NE_fTbKGe5z",
        "outputId": "8f681f95-4a31-4932-f1d3-d7377723c71d"
      },
      "outputs": [
        {
          "output_type": "stream",
          "name": "stdout",
          "text": [
            "                  label  PREDICT_original_sf_compactness_avg_2.5D  \\\n",
            "ID                                                                  \n",
            "Lipo-001_0  liposarcoma                                  0.368434   \n",
            "Lipo-002_0  liposarcoma                                  0.660571   \n",
            "Lipo-003_0       lipoma                                  0.365191   \n",
            "Lipo-004_0  liposarcoma                                  0.372210   \n",
            "Lipo-005_0       lipoma                                  0.369120   \n",
            "...                 ...                                       ...   \n",
            "Lipo-111_0       lipoma                                  0.244813   \n",
            "Lipo-112_0  liposarcoma                                  0.197353   \n",
            "Lipo-113_0  liposarcoma                                  0.307562   \n",
            "Lipo-114_0       lipoma                                  0.577333   \n",
            "Lipo-115_0  liposarcoma                                  0.635282   \n",
            "\n",
            "            PREDICT_original_sf_compactness_std_2.5D  \\\n",
            "ID                                                     \n",
            "Lipo-001_0                                  0.262371   \n",
            "Lipo-002_0                                  0.179013   \n",
            "Lipo-003_0                                  0.157712   \n",
            "Lipo-004_0                                  0.169761   \n",
            "Lipo-005_0                                  0.167485   \n",
            "...                                              ...   \n",
            "Lipo-111_0                                  0.196912   \n",
            "Lipo-112_0                                  0.245162   \n",
            "Lipo-113_0                                  0.169252   \n",
            "Lipo-114_0                                  0.259572   \n",
            "Lipo-115_0                                  0.145088   \n",
            "\n",
            "            PREDICT_original_sf_rad_dist_avg_2.5D  \\\n",
            "ID                                                  \n",
            "Lipo-001_0                              26.200395   \n",
            "Lipo-002_0                              55.155046   \n",
            "Lipo-003_0                              30.577026   \n",
            "Lipo-004_0                              94.006805   \n",
            "Lipo-005_0                              94.612701   \n",
            "...                                           ...   \n",
            "Lipo-111_0                              71.895419   \n",
            "Lipo-112_0                              46.808373   \n",
            "Lipo-113_0                              49.473796   \n",
            "Lipo-114_0                              38.522918   \n",
            "Lipo-115_0                              99.852705   \n",
            "\n",
            "            PREDICT_original_sf_rad_dist_std_2.5D  \\\n",
            "ID                                                  \n",
            "Lipo-001_0                               8.174390   \n",
            "Lipo-002_0                               9.318741   \n",
            "Lipo-003_0                               8.963647   \n",
            "Lipo-004_0                              33.512409   \n",
            "Lipo-005_0                              31.250821   \n",
            "...                                           ...   \n",
            "Lipo-111_0                              26.918572   \n",
            "Lipo-112_0                              12.352357   \n",
            "Lipo-113_0                              16.537665   \n",
            "Lipo-114_0                               9.698487   \n",
            "Lipo-115_0                              14.692765   \n",
            "\n",
            "            PREDICT_original_sf_roughness_avg_2.5D  \\\n",
            "ID                                                   \n",
            "Lipo-001_0                               20.940000   \n",
            "Lipo-002_0                                9.546044   \n",
            "Lipo-003_0                               17.695139   \n",
            "Lipo-004_0                               21.049148   \n",
            "Lipo-005_0                               17.059573   \n",
            "...                                            ...   \n",
            "Lipo-111_0                               45.855907   \n",
            "Lipo-112_0                               33.347250   \n",
            "Lipo-113_0                               27.933840   \n",
            "Lipo-114_0                               13.842015   \n",
            "Lipo-115_0                               10.222245   \n",
            "\n",
            "            PREDICT_original_sf_roughness_std_2.5D  \n",
            "ID                                                  \n",
            "Lipo-001_0                               13.551937  \n",
            "Lipo-002_0                                7.051937  \n",
            "Lipo-003_0                               10.772365  \n",
            "Lipo-004_0                               15.928362  \n",
            "Lipo-005_0                               15.239905  \n",
            "...                                            ...  \n",
            "Lipo-111_0                               53.853425  \n",
            "Lipo-112_0                               28.467534  \n",
            "Lipo-113_0                               18.673471  \n",
            "Lipo-114_0                                8.787667  \n",
            "Lipo-115_0                               11.102328  \n",
            "\n",
            "[115 rows x 7 columns]\n",
            "Accuracy: 0.43478260869565216\n",
            "Voorspelde diagnoses voor de eerste 5 samples: ['lipoma' 'lipoma' 'lipoma' 'lipoma' 'liposarcoma' 'liposarcoma' 'lipoma'\n",
            " 'liposarcoma' 'lipoma' 'lipoma' 'lipoma' 'lipoma' 'lipoma' 'lipoma'\n",
            " 'lipoma' 'lipoma' 'lipoma' 'liposarcoma' 'lipoma' 'liposarcoma'\n",
            " 'liposarcoma' 'lipoma' 'lipoma']\n"
          ]
        }
      ],
      "source": [
        "# Data loading functions. Uncomment the one you want to use\n",
        "import pandas as pd\n",
        "from worclipo.load_data import load_data\n",
        "from sklearn.neighbors import KNeighborsClassifier\n",
        "from sklearn.model_selection import train_test_split\n",
        "from sklearn.metrics import accuracy_score\n",
        "\n",
        "data = load_data()\n",
        "#print(f'The number of samples: {len(data.index)}')\n",
        "#print(f'The number of columns: {len(data.columns)}')\n",
        "\n",
        "# Create a data frame with the sample ID, diagnosis and first 5 features\n",
        "#feature_data = data.iloc[:, :7]\n",
        "#print(\"New dataset containing the first row as column labels and first 7 columns:\")\n",
        "print(feature_data)\n",
        "\n",
        "knn = KNeighborsClassifier(n_neighbors=5)\n",
        "X = feature_data.iloc[:, 2:30]\n",
        "y = feature_data['label']\n",
        "\n",
        "X_train, X_test, y_train, y_test = train_test_split(X, y, test_size=0.2)\n",
        "\n",
        "knn.fit(X_train,y_train)\n",
        "\n",
        "#sample_data = feature_data.iloc[:5, :]  # Eerste 5 samples, enkel features (geen ID of diagnose)\n",
        "predictions = knn.predict(X_test)\n",
        "accuracy = accuracy_score(y_test, predictions)\n",
        "print(\"Accuracy:\", accuracy)\n",
        "print(\"Voorspelde diagnoses voor de eerste 5 samples:\", predictions)\n",
        "\n",
        "\n",
        "\n"
      ]
    },
    {
      "cell_type": "code",
      "execution_count": null,
      "metadata": {
        "id": "a1cUC2O8OeIP",
        "colab": {
          "base_uri": "https://localhost:8080/"
        },
        "outputId": "ce788917-9262-499f-8e24-5e7b2f8f06ba"
      },
      "outputs": [
        {
          "output_type": "execute_result",
          "data": {
            "text/plain": [
              "label\n",
              "liposarcoma    58\n",
              "lipoma         57\n",
              "dtype: int64"
            ]
          },
          "metadata": {},
          "execution_count": 3
        }
      ],
      "source": [
        "# describe the classes\n",
        "data.value_counts(\"label\")\n"
      ]
    }
  ],
  "metadata": {
    "colab": {
      "name": "assignment.ipynb",
      "provenance": []
    },
    "kernelspec": {
      "display_name": "Python 3",
      "name": "python3"
    },
    "language_info": {
      "codemirror_mode": {
        "name": "ipython",
        "version": 3
      },
      "file_extension": ".py",
      "mimetype": "text/x-python",
      "name": "python",
      "nbconvert_exporter": "python",
      "pygments_lexer": "ipython3",
      "version": "3.8.5"
    }
  },
  "nbformat": 4,
  "nbformat_minor": 0
}