{
  "cells": [
    {
      "cell_type": "markdown",
      "metadata": {
        "id": "7SXpaKwwGe5x"
      },
      "source": [
        "# TM10007 Assignment template"
      ]
    },
    {
      "cell_type": "markdown",
      "source": [
        "In this part of the code a connection is made between github and this file.\n",
        "All the documents from github are imported, inluding our data.\n",
        "The files that are not needed for our assignment were deleted from github."
      ],
      "metadata": {
        "id": "Alk8IgHyUESq"
      }
    },
    {
      "cell_type": "code",
      "execution_count": 1,
      "metadata": {
        "colab": {
          "base_uri": "https://localhost:8080/"
        },
        "id": "CiDn2Sk-VWqE",
        "outputId": "23308563-8dad-4e77-e641-84440b26bfd3"
      },
      "outputs": [
        {
          "output_type": "stream",
          "name": "stdout",
          "text": [
            "  Preparing metadata (setup.py) ... \u001b[?25l\u001b[?25hdone\n",
            "\u001b[2K     \u001b[90m━━━━━━━━━━━━━━━━━━━━━━━━━━━━━━━━━━━━━━━━\u001b[0m \u001b[32m23.7/23.7 MB\u001b[0m \u001b[31m1.6 MB/s\u001b[0m eta \u001b[36m0:00:00\u001b[0m\n",
            "\u001b[2K     \u001b[90m━━━━━━━━━━━━━━━━━━━━━━━━━━━━━━━━━━━━━━━━\u001b[0m \u001b[32m823.6/823.6 kB\u001b[0m \u001b[31m2.1 MB/s\u001b[0m eta \u001b[36m0:00:00\u001b[0m\n",
            "\u001b[2K     \u001b[90m━━━━━━━━━━━━━━━━━━━━━━━━━━━━━━━━━━━━━━━━\u001b[0m \u001b[32m14.1/14.1 MB\u001b[0m \u001b[31m2.0 MB/s\u001b[0m eta \u001b[36m0:00:00\u001b[0m\n",
            "\u001b[2K     \u001b[90m━━━━━━━━━━━━━━━━━━━━━━━━━━━━━━━━━━━━━━━━\u001b[0m \u001b[32m731.7/731.7 MB\u001b[0m \u001b[31m935.2 kB/s\u001b[0m eta \u001b[36m0:00:00\u001b[0m\n",
            "\u001b[2K     \u001b[90m━━━━━━━━━━━━━━━━━━━━━━━━━━━━━━━━━━━━━━━━\u001b[0m \u001b[32m410.6/410.6 MB\u001b[0m \u001b[31m1.6 MB/s\u001b[0m eta \u001b[36m0:00:00\u001b[0m\n",
            "\u001b[2K     \u001b[90m━━━━━━━━━━━━━━━━━━━━━━━━━━━━━━━━━━━━━━━━\u001b[0m \u001b[32m121.6/121.6 MB\u001b[0m \u001b[31m3.3 MB/s\u001b[0m eta \u001b[36m0:00:00\u001b[0m\n",
            "\u001b[2K     \u001b[90m━━━━━━━━━━━━━━━━━━━━━━━━━━━━━━━━━━━━━━━━\u001b[0m \u001b[32m56.5/56.5 MB\u001b[0m \u001b[31m2.4 MB/s\u001b[0m eta \u001b[36m0:00:00\u001b[0m\n",
            "\u001b[2K     \u001b[90m━━━━━━━━━━━━━━━━━━━━━━━━━━━━━━━━━━━━━━━━\u001b[0m \u001b[32m124.2/124.2 MB\u001b[0m \u001b[31m2.3 MB/s\u001b[0m eta \u001b[36m0:00:00\u001b[0m\n",
            "\u001b[2K     \u001b[90m━━━━━━━━━━━━━━━━━━━━━━━━━━━━━━━━━━━━━━━━\u001b[0m \u001b[32m196.0/196.0 MB\u001b[0m \u001b[31m1.6 MB/s\u001b[0m eta \u001b[36m0:00:00\u001b[0m\n",
            "\u001b[2K     \u001b[90m━━━━━━━━━━━━━━━━━━━━━━━━━━━━━━━━━━━━━━━━\u001b[0m \u001b[32m166.0/166.0 MB\u001b[0m \u001b[31m3.0 MB/s\u001b[0m eta \u001b[36m0:00:00\u001b[0m\n",
            "\u001b[2K     \u001b[90m━━━━━━━━━━━━━━━━━━━━━━━━━━━━━━━━━━━━━━━━\u001b[0m \u001b[32m99.1/99.1 kB\u001b[0m \u001b[31m4.2 MB/s\u001b[0m eta \u001b[36m0:00:00\u001b[0m\n",
            "\u001b[2K     \u001b[90m━━━━━━━━━━━━━━━━━━━━━━━━━━━━━━━━━━━━━━━━\u001b[0m \u001b[32m21.1/21.1 MB\u001b[0m \u001b[31m2.2 MB/s\u001b[0m eta \u001b[36m0:00:00\u001b[0m\n",
            "\u001b[?25h  Building wheel for ktml (setup.py) ... \u001b[?25l\u001b[?25hdone\n"
          ]
        }
      ],
      "source": [
        "# Run this to use from colab environment\n",
        "!pip install -q --upgrade git+https://github.com/NFAFrijns/TM10007_G1_lipo.git"
      ]
    },
    {
      "cell_type": "markdown",
      "metadata": {
        "id": "5ZxITZZaOeIO"
      },
      "source": [
        "## Data loading and cleaning\n",
        "\n",
        "Below are functions to load the dataset of your choice. After that, it is all up to you to create and evaluate a classification method. Beware, there may be missing values in these datasets. Good luck!"
      ]
    },
    {
      "cell_type": "code",
      "execution_count": 2,
      "metadata": {
        "colab": {
          "base_uri": "https://localhost:8080/"
        },
        "id": "-NE_fTbKGe5z",
        "outputId": "d56a622d-9d9b-4c80-d0cd-01ae341a771d"
      },
      "outputs": [
        {
          "output_type": "stream",
          "name": "stdout",
          "text": [
            "The number of samples: 115\n",
            "The number of columns: 494\n",
            "The number of samples: 115\n",
            "The number of samples: 115\n",
            "Ratio van lipoma and liposarcoma is: 57 : 58\n"
          ]
        }
      ],
      "source": [
        "# Data loading functions. Uncomment the one you want to use\n",
        "from worclipo.load_data import load_data\n",
        "import pandas as pd\n",
        "data = load_data()\n",
        "\n",
        "# Printing the demensions of the data\n",
        "print(f'The number of samples: {len(data.index)}')\n",
        "print(f'The number of columns: {len(data.columns)}')\n",
        "\n",
        "#splitting data into X and y\n",
        "y  = data['label']\n",
        "X = data[data.columns[1:]]\n",
        "print(f'The number of samples: {len(X.index)}')\n",
        "print(f'The number of samples: {len(y.index)}')\n",
        "# Counting the different labels\n",
        "def ratio_lipoma_liposarcoma(y):\n",
        "  lipoma = 0\n",
        "  liposarcoma = 0\n",
        "  for i in y:\n",
        "    if i == \"lipoma\":\n",
        "      lipoma += 1\n",
        "    else:\n",
        "      liposarcoma += 1\n",
        "  return f'Ratio van lipoma and liposarcoma is: {lipoma} : {liposarcoma}'\n",
        "print(ratio_lipoma_liposarcoma(y))"
      ]
    },
    {
      "cell_type": "markdown",
      "source": [
        "# Check if there are duplicated features and samples\n",
        "In this code a check will be conducted to check if there are any duplicate features\n",
        "\n",
        "*   Lijstitem\n",
        "*   Lijstitem\n",
        "\n"
      ],
      "metadata": {
        "id": "OVlgJrMk2tX1"
      }
    },
    {
      "cell_type": "code",
      "source": [
        "# check of there are no duplicated features and rows\n",
        "if  data.index.is_unique:\n",
        "  print('Features and rows are unique')\n",
        "else:\n",
        "  print('There is a duplicated features and/or rows')"
      ],
      "metadata": {
        "id": "ZsDlJZl28mqD",
        "outputId": "043df0d2-a240-4a3e-983e-b7f7bd8f2c9f",
        "colab": {
          "base_uri": "https://localhost:8080/"
        }
      },
      "execution_count": 12,
      "outputs": [
        {
          "output_type": "stream",
          "name": "stdout",
          "text": [
            "Features are unique\n"
          ]
        }
      ]
    },
    {
      "cell_type": "markdown",
      "source": [
        "# Check if there is missing data\n",
        "the code will make a heat map for missing data"
      ],
      "metadata": {
        "id": "4LHoq6um535x"
      }
    },
    {
      "cell_type": "code",
      "source": [
        "data.info()\n",
        "print()\n",
        "missing_values = data.isnull().any()  # Check if any missing values exist in each column\n",
        "missing_features = missing_values[missing_values]  # Filter only the features with missing values\n",
        "print(\"Features with missing values:\")\n",
        "print(missing_features)"
      ],
      "metadata": {
        "id": "dd8TYzM46IOT",
        "outputId": "0e5c2bbe-b19e-4cff-86a1-66032d946367",
        "colab": {
          "base_uri": "https://localhost:8080/"
        }
      },
      "execution_count": 26,
      "outputs": [
        {
          "output_type": "stream",
          "name": "stdout",
          "text": [
            "<class 'pandas.core.frame.DataFrame'>\n",
            "Index: 115 entries, Lipo-001_0 to Lipo-115_0\n",
            "Columns: 494 entries, label to PREDICT_original_phasef_phasesym_entropy_WL3_N5\n",
            "dtypes: float64(468), int64(25), object(1)\n",
            "memory usage: 448.8+ KB\n",
            "\n",
            "Features with missing values:\n",
            "Series([], dtype: bool)\n"
          ]
        }
      ]
    },
    {
      "cell_type": "markdown",
      "source": [
        "# Splitting the data\n",
        "We will split the data in a training en test set with the following ratio 4:1 (training:test).\n",
        "\n"
      ],
      "metadata": {
        "id": "Y1GcxxuPoPYt"
      }
    },
    {
      "cell_type": "code",
      "execution_count": null,
      "metadata": {
        "id": "a1cUC2O8OeIP",
        "outputId": "8b953652-4b0d-4272-e176-1d96fb414ca5",
        "colab": {
          "base_uri": "https://localhost:8080/"
        }
      },
      "outputs": [
        {
          "output_type": "stream",
          "name": "stdout",
          "text": [
            "Train Ratio van lipoma and liposarcoma is: 45 : 47\n",
            "Test Ratio van lipoma and liposarcoma is: 12 : 11\n"
          ]
        }
      ],
      "source": [
        "from sklearn.model_selection import train_test_split\n",
        "# making the train and test data\n",
        "X_train, X_test, y_train, y_test = train_test_split(X, y, test_size=0.2, random_state=42)\n",
        "\n",
        "print(f'Train {ratio_lipoma_liposarcoma(y_train)}')\n",
        "print(f'Test {ratio_lipoma_liposarcoma(y_test)}')"
      ]
    },
    {
      "cell_type": "markdown",
      "source": [
        "#Dimensionality reduction\n"
      ],
      "metadata": {
        "id": "_EkqfTz082BQ"
      }
    },
    {
      "cell_type": "code",
      "source": [
        "# code for dimensionality reduction"
      ],
      "metadata": {
        "id": "IQLUlMDa86Gq"
      },
      "execution_count": null,
      "outputs": []
    }
  ],
  "metadata": {
    "colab": {
      "name": "assignment.ipynb",
      "provenance": []
    },
    "kernelspec": {
      "display_name": "Python 3",
      "name": "python3"
    },
    "language_info": {
      "codemirror_mode": {
        "name": "ipython",
        "version": 3
      },
      "file_extension": ".py",
      "mimetype": "text/x-python",
      "name": "python",
      "nbconvert_exporter": "python",
      "pygments_lexer": "ipython3",
      "version": "3.8.5"
    },
    "accelerator": "TPU"
  },
  "nbformat": 4,
  "nbformat_minor": 0
}