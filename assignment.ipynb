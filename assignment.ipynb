{
  "cells": [
    {
      "cell_type": "markdown",
      "metadata": {
        "id": "7SXpaKwwGe5x"
      },
      "source": [
        "# TM10007 Assignment template"
      ]
    },
    {
      "cell_type": "markdown",
      "source": [
        "In this part of the code a connection is made between github and this file.\n",
        "All the documents from github are imported, inluding our data.\n",
        "The files that are not needed for our assignment were deleted from github."
      ],
      "metadata": {
        "id": "Alk8IgHyUESq"
      }
    },
    {
      "cell_type": "code",
      "execution_count": 6,
      "metadata": {
        "colab": {
          "base_uri": "https://localhost:8080/"
        },
        "id": "CiDn2Sk-VWqE",
        "outputId": "66078ac4-47ea-42ff-8f0c-93db066373ea"
      },
      "outputs": [
        {
          "output_type": "stream",
          "name": "stdout",
          "text": [
            "  Preparing metadata (setup.py) ... \u001b[?25l\u001b[?25hdone\n"
          ]
        }
      ],
      "source": [
        "# Run this to use from colab environment\n",
        "!pip install -q --upgrade git+https://github.com/NFAFrijns/TM10007_G1_lipo.git"
      ]
    },
    {
      "cell_type": "markdown",
      "metadata": {
        "id": "5ZxITZZaOeIO"
      },
      "source": [
        "## Data loading and cleaning\n",
        "\n",
        "Below are functions to load the dataset of your choice. After that, it is all up to you to create and evaluate a classification method. Beware, there may be missing values in these datasets. Good luck!"
      ]
    },
    {
      "cell_type": "code",
      "execution_count": 18,
      "metadata": {
        "colab": {
          "base_uri": "https://localhost:8080/",
          "height": 1000
        },
        "id": "-NE_fTbKGe5z",
        "outputId": "25917e9a-460d-4969-9f41-405156d90c99"
      },
      "outputs": [
        {
          "output_type": "stream",
          "name": "stdout",
          "text": [
            "                  label  PREDICT_original_sf_compactness_avg_2.5D  \\\n",
            "ID                                                                  \n",
            "Lipo-001_0  liposarcoma                                  0.368434   \n",
            "Lipo-002_0  liposarcoma                                  0.660571   \n",
            "Lipo-003_0       lipoma                                  0.365191   \n",
            "Lipo-004_0  liposarcoma                                  0.372210   \n",
            "Lipo-005_0       lipoma                                  0.369120   \n",
            "...                 ...                                       ...   \n",
            "Lipo-111_0       lipoma                                  0.244813   \n",
            "Lipo-112_0  liposarcoma                                  0.197353   \n",
            "Lipo-113_0  liposarcoma                                  0.307562   \n",
            "Lipo-114_0       lipoma                                  0.577333   \n",
            "Lipo-115_0  liposarcoma                                  0.635282   \n",
            "\n",
            "            PREDICT_original_sf_compactness_std_2.5D  \\\n",
            "ID                                                     \n",
            "Lipo-001_0                                  0.262371   \n",
            "Lipo-002_0                                  0.179013   \n",
            "Lipo-003_0                                  0.157712   \n",
            "Lipo-004_0                                  0.169761   \n",
            "Lipo-005_0                                  0.167485   \n",
            "...                                              ...   \n",
            "Lipo-111_0                                  0.196912   \n",
            "Lipo-112_0                                  0.245162   \n",
            "Lipo-113_0                                  0.169252   \n",
            "Lipo-114_0                                  0.259572   \n",
            "Lipo-115_0                                  0.145088   \n",
            "\n",
            "            PREDICT_original_sf_rad_dist_avg_2.5D  \\\n",
            "ID                                                  \n",
            "Lipo-001_0                              26.200395   \n",
            "Lipo-002_0                              55.155046   \n",
            "Lipo-003_0                              30.577026   \n",
            "Lipo-004_0                              94.006805   \n",
            "Lipo-005_0                              94.612701   \n",
            "...                                           ...   \n",
            "Lipo-111_0                              71.895419   \n",
            "Lipo-112_0                              46.808373   \n",
            "Lipo-113_0                              49.473796   \n",
            "Lipo-114_0                              38.522918   \n",
            "Lipo-115_0                              99.852705   \n",
            "\n",
            "            PREDICT_original_sf_rad_dist_std_2.5D  \\\n",
            "ID                                                  \n",
            "Lipo-001_0                               8.174390   \n",
            "Lipo-002_0                               9.318741   \n",
            "Lipo-003_0                               8.963647   \n",
            "Lipo-004_0                              33.512409   \n",
            "Lipo-005_0                              31.250821   \n",
            "...                                           ...   \n",
            "Lipo-111_0                              26.918572   \n",
            "Lipo-112_0                              12.352357   \n",
            "Lipo-113_0                              16.537665   \n",
            "Lipo-114_0                               9.698487   \n",
            "Lipo-115_0                              14.692765   \n",
            "\n",
            "            PREDICT_original_sf_roughness_avg_2.5D  \\\n",
            "ID                                                   \n",
            "Lipo-001_0                               20.940000   \n",
            "Lipo-002_0                                9.546044   \n",
            "Lipo-003_0                               17.695139   \n",
            "Lipo-004_0                               21.049148   \n",
            "Lipo-005_0                               17.059573   \n",
            "...                                            ...   \n",
            "Lipo-111_0                               45.855907   \n",
            "Lipo-112_0                               33.347250   \n",
            "Lipo-113_0                               27.933840   \n",
            "Lipo-114_0                               13.842015   \n",
            "Lipo-115_0                               10.222245   \n",
            "\n",
            "            PREDICT_original_sf_roughness_std_2.5D  \n",
            "ID                                                  \n",
            "Lipo-001_0                               13.551937  \n",
            "Lipo-002_0                                7.051937  \n",
            "Lipo-003_0                               10.772365  \n",
            "Lipo-004_0                               15.928362  \n",
            "Lipo-005_0                               15.239905  \n",
            "...                                            ...  \n",
            "Lipo-111_0                               53.853425  \n",
            "Lipo-112_0                               28.467534  \n",
            "Lipo-113_0                               18.673471  \n",
            "Lipo-114_0                                8.787667  \n",
            "Lipo-115_0                               11.102328  \n",
            "\n",
            "[115 rows x 7 columns]\n",
            "Accuracy for each fold: [0.47826087 0.56521739 0.60869565 0.65217391 0.30434783]\n",
            "Mean accuracy: 0.5217391304347826\n"
          ]
        },
        {
          "output_type": "display_data",
          "data": {
            "text/plain": [
              "<Figure size 1000x600 with 1 Axes>"
            ],
            "image/png": "[encoded data removed]"
          },
          "metadata": {}
        }
      ],
      "source": [
        "# Import libraries\n",
        "import pandas as pd\n",
        "from worclipo.load_data import load_data\n",
        "from sklearn.neighbors import KNeighborsClassifier\n",
        "from sklearn.model_selection import train_test_split\n",
        "from sklearn.metrics import accuracy_score\n",
        "from sklearn.model_selection import cross_val_score\n",
        "import matplotlib.pyplot as plt\n",
        "\n",
        "# Import data\n",
        "# Create a data frame with the sample ID, diagnosis and first 5 features\n",
        "data = load_data()\n",
        "feature_data = data.iloc[:, :7]\n",
        "print(feature_data)\n",
        "\n",
        "# Split data with 80% train and 20% test\n",
        "X = feature_data.iloc[:, 2:7]\n",
        "y = feature_data['label']\n",
        "#X_train, X_test, y_train, y_test = train_test_split(X, y, test_size=0.2)\n",
        "\n",
        "# Implement classifier KNN and perform cross validation\n",
        "knn = KNeighborsClassifier(n_neighbors=5)\n",
        "scores = cross_val_score(knn, X, y, cv=5) # Here, cv=5 means 5-fold cross-validation\n",
        "\n",
        "# Print the accuracy for each fold\n",
        "print(\"Accuracy for each fold:\", scores)\n",
        "\n",
        "# Print the mean accuracy across all folds\n",
        "print(\"Mean accuracy:\", scores.mean())\n",
        "\n",
        "# Plotting the scores\n",
        "plt.figure(figsize=(10,6))\n",
        "mean_accuracy = scores.mean()\n",
        "plt.axhline(y=mean_accuracy, color='blue', linestyle='--', label='Mean Accuracy')\n",
        "\n",
        "# Individual cross-validation scores\n",
        "for i, score in enumerate(scores):\n",
        "    plt.bar(['KNN (CV %d)' % (i+1)], [score], color='gray')\n",
        "\n",
        "plt.xlabel('Classifier')\n",
        "plt.ylabel('Accuracy')\n",
        "plt.title('Cross-validation Scores for KNN')\n",
        "plt.ylim(0, 1)\n",
        "plt.legend()\n",
        "plt.show()\n",
        "\n"
      ]
    },
    {
      "cell_type": "code",
      "execution_count": null,
      "metadata": {
        "id": "a1cUC2O8OeIP",
        "colab": {
          "base_uri": "https://localhost:8080/"
        },
        "outputId": "ce788917-9262-499f-8e24-5e7b2f8f06ba"
      },
      "outputs": [
        {
          "output_type": "execute_result",
          "data": {
            "text/plain": [
              "label\n",
              "liposarcoma    58\n",
              "lipoma         57\n",
              "dtype: int64"
            ]
          },
          "metadata": {},
          "execution_count": 3
        }
      ],
      "source": [
        "# describe the classes\n",
        "data.value_counts(\"label\")\n"
      ]
    }
  ],
  "metadata": {
    "colab": {
      "name": "assignment.ipynb",
      "provenance": []
    },
    "kernelspec": {
      "display_name": "Python 3",
      "name": "python3"
    },
    "language_info": {
      "codemirror_mode": {
        "name": "ipython",
        "version": 3
      },
      "file_extension": ".py",
      "mimetype": "text/x-python",
      "name": "python",
      "nbconvert_exporter": "python",
      "pygments_lexer": "ipython3",
      "version": "3.8.5"
    }
  },
  "nbformat": 4,
  "nbformat_minor": 0
}